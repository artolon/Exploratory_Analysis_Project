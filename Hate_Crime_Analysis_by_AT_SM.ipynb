{
 "cells": [
  {
   "cell_type": "markdown",
   "id": "4130c33e",
   "metadata": {},
   "source": [
    "# Analysis of Hate Crimes in the United States"
   ]
  },
  {
   "cell_type": "markdown",
   "id": "2b5be8a7",
   "metadata": {},
   "source": [
    "## Introduction and Background\n",
    "\n",
    "Hate crime statistics were downloaded from the Federal Bureau of Investigation (FBI) Crime Data Explorer (CDE). The data contain hate crimes reported between 1991 and 2020. All data are at the incident level. The FBI defines a hate crime as a crime that is \"motivated in whole, or in part, by an offender’s bias against the victim’s perceived race, gender, gender identity, religion, disability, sexual orientation, or ethnicity.\""
   ]
  },
  {
   "cell_type": "markdown",
   "id": "df57e389",
   "metadata": {},
   "source": [
    "## Executive Summary\n",
    "\n",
    "The researchers (Sakshi and Abbie) determined 4 primary topics to explore for their analysis:\n",
    "1. What have been the overall trends of hate crime frequency over the years? \n",
    "2. Do the number of hate crimes vary by region of the United States? \n",
    "3. How common are multiple offenses vs. single offenses and are they related to multiple vs. single bias?\n",
    "4. What is the average number of victims for one hate crime? Is it common for a hate crime to involve multiple victims?\n",
    "\n",
    "After analyzing these questions, the researchers determined that... \n",
    "\n",
    "It is not common for the FBI to categorize multiple offenses and/or multiple biases with a single hate crime. Rather, it is much more common for one hate crime to involve and single offense/single bias. If a hate crime *does* involve multiple, it is more common to have multiple offenses per hate crime, as opposed to multiple biases. It was also determined that there is a statistically significant relationship between offense (multiple vs. single) and bias (multiple vs. single). However, more tests would be needed to determine strength or association of this relationship. \n",
    "\n",
    "This analysis also determined that the average hate crime (as reported to the FBI) involves approximately 1 victim. After filtering the data for hate crimes involving multiple victims, the average was moved slightly higher to approximatley 3 victims. There were also extreme outliers of victim counts in the data set. It was concluded that the overwhelming majority of hate crimes involve fewer than 10 victims. Higher victim counts for one hate crime *do* occur, but they are definitely rare. Among hate crimes with multiple victims, about 0.12% of hate crimes involved more than 30 victims, 0.44% involved 11 to 29 victims, and 99.44% involved 2 to 10 victims. When looking at the entire data set, 89.29% (n=219,577) involved a single victim and 10.71% of hate crimes involved multiple victims (n=26,343). \n",
    "\n",
    "Please note, this analysis was exploratory and more research should be conducted to better understand any associations between variables. \n",
    "\n",
    "Please refer to code below to better understand the methods and details of the analysis"
   ]
  },
  {
   "cell_type": "markdown",
   "id": "b845956e",
   "metadata": {},
   "source": [
    "##  Methods"
   ]
  },
  {
   "cell_type": "markdown",
   "id": "4781a81a",
   "metadata": {},
   "source": [
    "### Load all dependencies \n",
    "\n",
    "First the following modules were imported to conduct the analysis. The csv file was also downloaded."
   ]
  },
  {
   "cell_type": "code",
   "execution_count": 2,
   "id": "c379feed",
   "metadata": {},
   "outputs": [],
   "source": [
    "# Import necessary modules\n",
    "import pandas as pd\n",
    "import numpy as np\n",
    "import math\n",
    "import statistics\n",
    "from scipy import stats\n",
    "import seaborn as sns\n",
    "import matplotlib.pyplot as plt\n",
    "\n",
    "\n",
    "# Import csv file from FBI CDE website\n",
    "fbi_crime = \"hate_crime.csv\"\n",
    "hate_crime_df = pd.read_csv(fbi_crime, low_memory=False)"
   ]
  },
  {
   "cell_type": "markdown",
   "id": "af872e4a",
   "metadata": {},
   "source": [
    "### Initial Exploration of Data\n",
    "\n",
    "Next, the data were explored for very basic summary statistics in order to help guide our questions."
   ]
  },
  {
   "cell_type": "code",
   "execution_count": 3,
   "id": "54915643",
   "metadata": {},
   "outputs": [
    {
     "data": {
      "text/plain": [
       "219577"
      ]
     },
     "execution_count": 3,
     "metadata": {},
     "output_type": "execute_result"
    }
   ],
   "source": [
    "# View data frame to get basic idea of data\n",
    "hate_crime_df.head()\n",
    "\n",
    "# Look at number of rows (sampl size)\n",
    "len(hate_crime_df.index)"
   ]
  },
  {
   "cell_type": "code",
   "execution_count": 4,
   "id": "1897a9dd",
   "metadata": {},
   "outputs": [
    {
     "name": "stdout",
     "output_type": "stream",
     "text": [
      "<class 'pandas.core.frame.DataFrame'>\n",
      "RangeIndex: 219577 entries, 0 to 219576\n",
      "Data columns (total 28 columns):\n",
      " #   Column                    Non-Null Count   Dtype  \n",
      "---  ------                    --------------   -----  \n",
      " 0   INCIDENT_ID               219577 non-null  int64  \n",
      " 1   DATA_YEAR                 219577 non-null  int64  \n",
      " 2   ORI                       219577 non-null  object \n",
      " 3   PUB_AGENCY_NAME           219577 non-null  object \n",
      " 4   PUB_AGENCY_UNIT           6431 non-null    object \n",
      " 5   AGENCY_TYPE_NAME          219577 non-null  object \n",
      " 6   STATE_ABBR                219577 non-null  object \n",
      " 7   STATE_NAME                219577 non-null  object \n",
      " 8   DIVISION_NAME             219577 non-null  object \n",
      " 9   REGION_NAME               219577 non-null  object \n",
      " 10  POPULATION_GROUP_CODE     219577 non-null  object \n",
      " 11  POPULATION_GROUP_DESC     219577 non-null  object \n",
      " 12  INCIDENT_DATE             219577 non-null  object \n",
      " 13  ADULT_VICTIM_COUNT        51411 non-null   float64\n",
      " 14  JUVENILE_VICTIM_COUNT     49539 non-null   float64\n",
      " 15  TOTAL_OFFENDER_COUNT      219577 non-null  int64  \n",
      " 16  ADULT_OFFENDER_COUNT      47130 non-null   float64\n",
      " 17  JUVENILE_OFFENDER_COUNT   47123 non-null   float64\n",
      " 18  OFFENDER_RACE             219557 non-null  object \n",
      " 19  OFFENDER_ETHNICITY        34873 non-null   object \n",
      " 20  VICTIM_COUNT              219577 non-null  int64  \n",
      " 21  OFFENSE_NAME              219577 non-null  object \n",
      " 22  TOTAL_INDIVIDUAL_VICTIMS  216098 non-null  float64\n",
      " 23  LOCATION_NAME             219577 non-null  object \n",
      " 24  BIAS_DESC                 219577 non-null  object \n",
      " 25  VICTIM_TYPES              219577 non-null  object \n",
      " 26  MULTIPLE_OFFENSE          219577 non-null  object \n",
      " 27  MULTIPLE_BIAS             219577 non-null  object \n",
      "dtypes: float64(5), int64(4), object(19)\n",
      "memory usage: 46.9+ MB\n"
     ]
    }
   ],
   "source": [
    "# Describe the numeric variables in the data set to obtain basic statistics\n",
    "hate_crime_df.info()"
   ]
  },
  {
   "cell_type": "code",
   "execution_count": 5,
   "id": "2d220192",
   "metadata": {},
   "outputs": [
    {
     "name": "stdout",
     "output_type": "stream",
     "text": [
      "Index(['INCIDENT_ID', 'DATA_YEAR', 'ORI', 'PUB_AGENCY_NAME', 'PUB_AGENCY_UNIT',\n",
      "       'AGENCY_TYPE_NAME', 'STATE_ABBR', 'STATE_NAME', 'DIVISION_NAME',\n",
      "       'REGION_NAME', 'POPULATION_GROUP_CODE', 'POPULATION_GROUP_DESC',\n",
      "       'INCIDENT_DATE', 'ADULT_VICTIM_COUNT', 'JUVENILE_VICTIM_COUNT',\n",
      "       'TOTAL_OFFENDER_COUNT', 'ADULT_OFFENDER_COUNT',\n",
      "       'JUVENILE_OFFENDER_COUNT', 'OFFENDER_RACE', 'OFFENDER_ETHNICITY',\n",
      "       'VICTIM_COUNT', 'OFFENSE_NAME', 'TOTAL_INDIVIDUAL_VICTIMS',\n",
      "       'LOCATION_NAME', 'BIAS_DESC', 'VICTIM_TYPES', 'MULTIPLE_OFFENSE',\n",
      "       'MULTIPLE_BIAS'],\n",
      "      dtype='object')\n"
     ]
    }
   ],
   "source": [
    "# Display all variable names\n",
    "print(hate_crime_df.columns)"
   ]
  },
  {
   "cell_type": "markdown",
   "id": "496c9c1b",
   "metadata": {},
   "source": [
    "# Research Questions\n",
    "\n",
    "After initial exploration of the data, four primary research questions were determined. The questions, along with their methods and results are outlined below."
   ]
  },
  {
   "cell_type": "markdown",
   "id": "c0024ae8",
   "metadata": {},
   "source": [
    "### 1) What have been the overall trends of hate crime frequency over the years?\n",
    "We explore here the total number of hate crime inident trend over past 30 years.\n",
    "We then subet this data by decade and for the last 10 years(2011-2020) to dive deeper"
   ]
  },
  {
   "cell_type": "markdown",
   "id": "91fc193e",
   "metadata": {},
   "source": [
    "#### Incidents per year for last 30 years"
   ]
  },
  {
   "cell_type": "code",
   "execution_count": 6,
   "id": "08d646d4",
   "metadata": {},
   "outputs": [],
   "source": [
    "# Calculatinf the total number of incidents per year and sorting by year\n",
    "hate_crime_df_by_year = hate_crime_df[\"DATA_YEAR\"].value_counts().sort_index()"
   ]
  },
  {
   "cell_type": "code",
   "execution_count": 7,
   "id": "d831eadd",
   "metadata": {},
   "outputs": [
    {
     "data": {
      "image/png": "[encoded data removed]",
      "text/plain": [
       "<Figure size 1080x360 with 1 Axes>"
      ]
     },
     "metadata": {
      "needs_background": "light"
     },
     "output_type": "display_data"
    }
   ],
   "source": [
    "# Plotting the data of number of incidents per year\n",
    "fig1, ax1 = plt.subplots()\n",
    "fig1 = hate_crime_df_by_year.plot.bar(color='dodgerblue', figsize=(15,5))\n",
    "\n",
    "ax1.set_xlabel(\"Year\")\n",
    "ax1.set_ylabel(\"No. of incidents\")\n",
    "ax1.set_title(\"Hate Crime Incidents in the last 30 years\")\n",
    "\n",
    "# Calculating the mean of the number of incidents over 30 years to display on the plot\n",
    "ym = hate_crime_df_by_year.mean()\n",
    "ax1.axhline(ym, color='green', linewidth=2, linestyle = '--')\n",
    "ax1.annotate('Mean: {:0.2f}'.format(ym), xy=(0, ym), xytext=(1,ym+1000),arrowprops=dict(arrowstyle='-|>', fc='black', shrinkA=0, shrinkB=0,\n",
    "                            connectionstyle='angle,angleA=0,angleB=90,rad=10'))\n",
    "# Save figure and then display\n",
    "plt.show()"
   ]
  },
  {
   "cell_type": "markdown",
   "id": "e30770de",
   "metadata": {},
   "source": [
    "#### Observations:\n",
    "    1. Mid 90s onwards we see an increase in hate crimes which peaked in the year 2001\n",
    "    2. 2009 to 2014 there a dip in the hate crime incidents were seen, post which we see a steady rise in the cases\n",
    "    3. 2020 recorded the hight number of hate crime cases across country crossing 10,000 cases a year\n",
    "    4. On an average 7319 incidents of hate crime are recorded in the United States each year\n",
    "\n",
    "##### We next see a cumulative incidents for past 3 decades to get a summary view of the above data"
   ]
  },
  {
   "cell_type": "code",
   "execution_count": 8,
   "id": "b2c65ae9",
   "metadata": {},
   "outputs": [
    {
     "data": {
      "text/html": [
       "<div>\n",
       "<style scoped>\n",
       "    .dataframe tbody tr th:only-of-type {\n",
       "        vertical-align: middle;\n",
       "    }\n",
       "\n",
       "    .dataframe tbody tr th {\n",
       "        vertical-align: top;\n",
       "    }\n",
       "\n",
       "    .dataframe thead th {\n",
       "        text-align: right;\n",
       "    }\n",
       "</style>\n",
       "<table border=\"1\" class=\"dataframe\">\n",
       "  <thead>\n",
       "    <tr style=\"text-align: right;\">\n",
       "      <th></th>\n",
       "      <th>INCIDENT_ID</th>\n",
       "      <th>DATA_YEAR</th>\n",
       "      <th>ORI</th>\n",
       "      <th>PUB_AGENCY_NAME</th>\n",
       "      <th>PUB_AGENCY_UNIT</th>\n",
       "      <th>AGENCY_TYPE_NAME</th>\n",
       "      <th>STATE_ABBR</th>\n",
       "      <th>STATE_NAME</th>\n",
       "      <th>DIVISION_NAME</th>\n",
       "      <th>REGION_NAME</th>\n",
       "      <th>...</th>\n",
       "      <th>OFFENDER_ETHNICITY</th>\n",
       "      <th>VICTIM_COUNT</th>\n",
       "      <th>OFFENSE_NAME</th>\n",
       "      <th>TOTAL_INDIVIDUAL_VICTIMS</th>\n",
       "      <th>LOCATION_NAME</th>\n",
       "      <th>BIAS_DESC</th>\n",
       "      <th>VICTIM_TYPES</th>\n",
       "      <th>MULTIPLE_OFFENSE</th>\n",
       "      <th>MULTIPLE_BIAS</th>\n",
       "      <th>decade_ending</th>\n",
       "    </tr>\n",
       "  </thead>\n",
       "  <tbody>\n",
       "    <tr>\n",
       "      <th>0</th>\n",
       "      <td>3015</td>\n",
       "      <td>1991</td>\n",
       "      <td>AR0040200</td>\n",
       "      <td>Rogers</td>\n",
       "      <td>NaN</td>\n",
       "      <td>City</td>\n",
       "      <td>AR</td>\n",
       "      <td>Arkansas</td>\n",
       "      <td>West South Central</td>\n",
       "      <td>South</td>\n",
       "      <td>...</td>\n",
       "      <td>NaN</td>\n",
       "      <td>1</td>\n",
       "      <td>Intimidation</td>\n",
       "      <td>1.0</td>\n",
       "      <td>Highway/Road/Alley/Street/Sidewalk</td>\n",
       "      <td>Anti-Black or African American</td>\n",
       "      <td>Individual</td>\n",
       "      <td>S</td>\n",
       "      <td>S</td>\n",
       "      <td>2000</td>\n",
       "    </tr>\n",
       "    <tr>\n",
       "      <th>1</th>\n",
       "      <td>3016</td>\n",
       "      <td>1991</td>\n",
       "      <td>AR0290100</td>\n",
       "      <td>Hope</td>\n",
       "      <td>NaN</td>\n",
       "      <td>City</td>\n",
       "      <td>AR</td>\n",
       "      <td>Arkansas</td>\n",
       "      <td>West South Central</td>\n",
       "      <td>South</td>\n",
       "      <td>...</td>\n",
       "      <td>NaN</td>\n",
       "      <td>1</td>\n",
       "      <td>Simple Assault</td>\n",
       "      <td>1.0</td>\n",
       "      <td>Highway/Road/Alley/Street/Sidewalk</td>\n",
       "      <td>Anti-White</td>\n",
       "      <td>Individual</td>\n",
       "      <td>S</td>\n",
       "      <td>S</td>\n",
       "      <td>2000</td>\n",
       "    </tr>\n",
       "    <tr>\n",
       "      <th>2</th>\n",
       "      <td>43</td>\n",
       "      <td>1991</td>\n",
       "      <td>AR0350100</td>\n",
       "      <td>Pine Bluff</td>\n",
       "      <td>NaN</td>\n",
       "      <td>City</td>\n",
       "      <td>AR</td>\n",
       "      <td>Arkansas</td>\n",
       "      <td>West South Central</td>\n",
       "      <td>South</td>\n",
       "      <td>...</td>\n",
       "      <td>NaN</td>\n",
       "      <td>1</td>\n",
       "      <td>Aggravated Assault</td>\n",
       "      <td>1.0</td>\n",
       "      <td>Residence/Home</td>\n",
       "      <td>Anti-Black or African American</td>\n",
       "      <td>Individual</td>\n",
       "      <td>S</td>\n",
       "      <td>S</td>\n",
       "      <td>2000</td>\n",
       "    </tr>\n",
       "    <tr>\n",
       "      <th>3</th>\n",
       "      <td>44</td>\n",
       "      <td>1991</td>\n",
       "      <td>AR0350100</td>\n",
       "      <td>Pine Bluff</td>\n",
       "      <td>NaN</td>\n",
       "      <td>City</td>\n",
       "      <td>AR</td>\n",
       "      <td>Arkansas</td>\n",
       "      <td>West South Central</td>\n",
       "      <td>South</td>\n",
       "      <td>...</td>\n",
       "      <td>NaN</td>\n",
       "      <td>2</td>\n",
       "      <td>Aggravated Assault;Destruction/Damage/Vandalis...</td>\n",
       "      <td>1.0</td>\n",
       "      <td>Highway/Road/Alley/Street/Sidewalk</td>\n",
       "      <td>Anti-White</td>\n",
       "      <td>Individual</td>\n",
       "      <td>M</td>\n",
       "      <td>S</td>\n",
       "      <td>2000</td>\n",
       "    </tr>\n",
       "    <tr>\n",
       "      <th>4</th>\n",
       "      <td>3017</td>\n",
       "      <td>1991</td>\n",
       "      <td>AR0350100</td>\n",
       "      <td>Pine Bluff</td>\n",
       "      <td>NaN</td>\n",
       "      <td>City</td>\n",
       "      <td>AR</td>\n",
       "      <td>Arkansas</td>\n",
       "      <td>West South Central</td>\n",
       "      <td>South</td>\n",
       "      <td>...</td>\n",
       "      <td>NaN</td>\n",
       "      <td>1</td>\n",
       "      <td>Aggravated Assault</td>\n",
       "      <td>1.0</td>\n",
       "      <td>Service/Gas Station</td>\n",
       "      <td>Anti-White</td>\n",
       "      <td>Individual</td>\n",
       "      <td>S</td>\n",
       "      <td>S</td>\n",
       "      <td>2000</td>\n",
       "    </tr>\n",
       "  </tbody>\n",
       "</table>\n",
       "<p>5 rows × 29 columns</p>\n",
       "</div>"
      ],
      "text/plain": [
       "   INCIDENT_ID  DATA_YEAR        ORI PUB_AGENCY_NAME PUB_AGENCY_UNIT  \\\n",
       "0         3015       1991  AR0040200          Rogers             NaN   \n",
       "1         3016       1991  AR0290100            Hope             NaN   \n",
       "2           43       1991  AR0350100      Pine Bluff             NaN   \n",
       "3           44       1991  AR0350100      Pine Bluff             NaN   \n",
       "4         3017       1991  AR0350100      Pine Bluff             NaN   \n",
       "\n",
       "  AGENCY_TYPE_NAME STATE_ABBR STATE_NAME       DIVISION_NAME REGION_NAME  ...  \\\n",
       "0             City         AR   Arkansas  West South Central       South  ...   \n",
       "1             City         AR   Arkansas  West South Central       South  ...   \n",
       "2             City         AR   Arkansas  West South Central       South  ...   \n",
       "3             City         AR   Arkansas  West South Central       South  ...   \n",
       "4             City         AR   Arkansas  West South Central       South  ...   \n",
       "\n",
       "  OFFENDER_ETHNICITY VICTIM_COUNT  \\\n",
       "0                NaN            1   \n",
       "1                NaN            1   \n",
       "2                NaN            1   \n",
       "3                NaN            2   \n",
       "4                NaN            1   \n",
       "\n",
       "                                        OFFENSE_NAME  \\\n",
       "0                                       Intimidation   \n",
       "1                                     Simple Assault   \n",
       "2                                 Aggravated Assault   \n",
       "3  Aggravated Assault;Destruction/Damage/Vandalis...   \n",
       "4                                 Aggravated Assault   \n",
       "\n",
       "   TOTAL_INDIVIDUAL_VICTIMS                       LOCATION_NAME  \\\n",
       "0                       1.0  Highway/Road/Alley/Street/Sidewalk   \n",
       "1                       1.0  Highway/Road/Alley/Street/Sidewalk   \n",
       "2                       1.0                      Residence/Home   \n",
       "3                       1.0  Highway/Road/Alley/Street/Sidewalk   \n",
       "4                       1.0                 Service/Gas Station   \n",
       "\n",
       "                        BIAS_DESC  VICTIM_TYPES  MULTIPLE_OFFENSE  \\\n",
       "0  Anti-Black or African American    Individual                 S   \n",
       "1                      Anti-White    Individual                 S   \n",
       "2  Anti-Black or African American    Individual                 S   \n",
       "3                      Anti-White    Individual                 M   \n",
       "4                      Anti-White    Individual                 S   \n",
       "\n",
       "  MULTIPLE_BIAS decade_ending  \n",
       "0             S          2000  \n",
       "1             S          2000  \n",
       "2             S          2000  \n",
       "3             S          2000  \n",
       "4             S          2000  \n",
       "\n",
       "[5 rows x 29 columns]"
      ]
     },
     "execution_count": 8,
     "metadata": {},
     "output_type": "execute_result"
    }
   ],
   "source": [
    "# Creating bins and label to add a coulmn for Decade \n",
    "\n",
    "decade_bins = [1990,2000,2010,2020]\n",
    "decade_labels = [\"2000\",\"2010\",\"2020\"]\n",
    "hate_crime_df[\"decade_ending\"] = pd.cut(hate_crime_df[\"DATA_YEAR\"],decade_bins,labels = decade_labels)\n",
    "hate_crime_df.head()"
   ]
  },
  {
   "cell_type": "code",
   "execution_count": 9,
   "id": "1dafac78",
   "metadata": {},
   "outputs": [
    {
     "data": {
      "text/html": [
       "<div>\n",
       "<style scoped>\n",
       "    .dataframe tbody tr th:only-of-type {\n",
       "        vertical-align: middle;\n",
       "    }\n",
       "\n",
       "    .dataframe tbody tr th {\n",
       "        vertical-align: top;\n",
       "    }\n",
       "\n",
       "    .dataframe thead th {\n",
       "        text-align: right;\n",
       "    }\n",
       "</style>\n",
       "<table border=\"1\" class=\"dataframe\">\n",
       "  <thead>\n",
       "    <tr style=\"text-align: right;\">\n",
       "      <th></th>\n",
       "      <th>INCIDENT_ID</th>\n",
       "    </tr>\n",
       "    <tr>\n",
       "      <th>decade_ending</th>\n",
       "      <th></th>\n",
       "    </tr>\n",
       "  </thead>\n",
       "  <tbody>\n",
       "    <tr>\n",
       "      <th>2000</th>\n",
       "      <td>73730</td>\n",
       "    </tr>\n",
       "    <tr>\n",
       "      <th>2010</th>\n",
       "      <td>76481</td>\n",
       "    </tr>\n",
       "    <tr>\n",
       "      <th>2020</th>\n",
       "      <td>69366</td>\n",
       "    </tr>\n",
       "  </tbody>\n",
       "</table>\n",
       "</div>"
      ],
      "text/plain": [
       "               INCIDENT_ID\n",
       "decade_ending             \n",
       "2000                 73730\n",
       "2010                 76481\n",
       "2020                 69366"
      ]
     },
     "execution_count": 9,
     "metadata": {},
     "output_type": "execute_result"
    }
   ],
   "source": [
    "hate_crime_df.groupby(\"decade_ending\")[[\"INCIDENT_ID\"]].count()"
   ]
  },
  {
   "cell_type": "markdown",
   "id": "a3001e0a",
   "metadata": {},
   "source": [
    "#### Observations:\n",
    "    - Interesting to note that 2011-2020 decade has the lowest cumulative hate crime inicidents than the previous 2 decades\n",
    "    - 2001-2010 recorded the most incidents \n",
    "    \n",
    "    \n",
    "#### Percent Distribution of incidents across bias categories\n",
    "Next we explore the BIAS_DESC column of the dataset. \n",
    "\n",
    "\"BIAS_DESC\" column categorizes each incident with the offender's bias behind the crime. This dataset has 279 unique bias category. We try to find the top categories here."
   ]
  },
  {
   "cell_type": "code",
   "execution_count": 10,
   "id": "35cfc571",
   "metadata": {},
   "outputs": [
    {
     "name": "stdout",
     "output_type": "stream",
     "text": [
      "279\n"
     ]
    }
   ],
   "source": [
    "print(hate_crime_df[\"BIAS_DESC\"].nunique())"
   ]
  },
  {
   "cell_type": "code",
   "execution_count": 11,
   "id": "5ff47ce0",
   "metadata": {},
   "outputs": [
    {
     "data": {
      "text/html": [
       "<div>\n",
       "<style scoped>\n",
       "    .dataframe tbody tr th:only-of-type {\n",
       "        vertical-align: middle;\n",
       "    }\n",
       "\n",
       "    .dataframe tbody tr th {\n",
       "        vertical-align: top;\n",
       "    }\n",
       "\n",
       "    .dataframe thead th {\n",
       "        text-align: right;\n",
       "    }\n",
       "</style>\n",
       "<table border=\"1\" class=\"dataframe\">\n",
       "  <thead>\n",
       "    <tr style=\"text-align: right;\">\n",
       "      <th></th>\n",
       "      <th>INCIDENT_ID</th>\n",
       "      <th>% Distribution</th>\n",
       "    </tr>\n",
       "    <tr>\n",
       "      <th>BIAS_DESC</th>\n",
       "      <th></th>\n",
       "      <th></th>\n",
       "    </tr>\n",
       "  </thead>\n",
       "  <tbody>\n",
       "    <tr>\n",
       "      <th>Anti-Black or African American</th>\n",
       "      <td>74762</td>\n",
       "      <td>34.05%</td>\n",
       "    </tr>\n",
       "    <tr>\n",
       "      <th>Anti-Jewish</th>\n",
       "      <td>28013</td>\n",
       "      <td>12.76%</td>\n",
       "    </tr>\n",
       "    <tr>\n",
       "      <th>Anti-White</th>\n",
       "      <td>25193</td>\n",
       "      <td>11.47%</td>\n",
       "    </tr>\n",
       "    <tr>\n",
       "      <th>Anti-Gay (Male)</th>\n",
       "      <td>21854</td>\n",
       "      <td>9.95%</td>\n",
       "    </tr>\n",
       "    <tr>\n",
       "      <th>Anti-Hispanic or Latino</th>\n",
       "      <td>14030</td>\n",
       "      <td>6.39%</td>\n",
       "    </tr>\n",
       "    <tr>\n",
       "      <th>Anti-Other Race/Ethnicity/Ancestry</th>\n",
       "      <td>10772</td>\n",
       "      <td>4.91%</td>\n",
       "    </tr>\n",
       "    <tr>\n",
       "      <th>Anti-Lesbian, Gay, Bisexual, or Transgender (Mixed Group)</th>\n",
       "      <td>6707</td>\n",
       "      <td>3.05%</td>\n",
       "    </tr>\n",
       "    <tr>\n",
       "      <th>Anti-Asian</th>\n",
       "      <td>6424</td>\n",
       "      <td>2.93%</td>\n",
       "    </tr>\n",
       "    <tr>\n",
       "      <th>Anti-Multiple Races, Group</th>\n",
       "      <td>5232</td>\n",
       "      <td>2.38%</td>\n",
       "    </tr>\n",
       "    <tr>\n",
       "      <th>Anti-Lesbian (Female)</th>\n",
       "      <td>4510</td>\n",
       "      <td>2.05%</td>\n",
       "    </tr>\n",
       "    <tr>\n",
       "      <th>Anti-Islamic (Muslim)</th>\n",
       "      <td>3916</td>\n",
       "      <td>1.78%</td>\n",
       "    </tr>\n",
       "    <tr>\n",
       "      <th>Anti-Other Religion</th>\n",
       "      <td>3525</td>\n",
       "      <td>1.61%</td>\n",
       "    </tr>\n",
       "    <tr>\n",
       "      <th>Anti-American Indian or Alaska Native</th>\n",
       "      <td>2382</td>\n",
       "      <td>1.08%</td>\n",
       "    </tr>\n",
       "    <tr>\n",
       "      <th>Anti-Catholic</th>\n",
       "      <td>1623</td>\n",
       "      <td>0.74%</td>\n",
       "    </tr>\n",
       "    <tr>\n",
       "      <th>Anti-Arab</th>\n",
       "      <td>1267</td>\n",
       "      <td>0.58%</td>\n",
       "    </tr>\n",
       "  </tbody>\n",
       "</table>\n",
       "</div>"
      ],
      "text/plain": [
       "                                                    INCIDENT_ID % Distribution\n",
       "BIAS_DESC                                                                     \n",
       "Anti-Black or African American                            74762         34.05%\n",
       "Anti-Jewish                                               28013         12.76%\n",
       "Anti-White                                                25193         11.47%\n",
       "Anti-Gay (Male)                                           21854          9.95%\n",
       "Anti-Hispanic or Latino                                   14030          6.39%\n",
       "Anti-Other Race/Ethnicity/Ancestry                        10772          4.91%\n",
       "Anti-Lesbian, Gay, Bisexual, or Transgender (Mi...         6707          3.05%\n",
       "Anti-Asian                                                 6424          2.93%\n",
       "Anti-Multiple Races, Group                                 5232          2.38%\n",
       "Anti-Lesbian (Female)                                      4510          2.05%\n",
       "Anti-Islamic (Muslim)                                      3916          1.78%\n",
       "Anti-Other Religion                                        3525          1.61%\n",
       "Anti-American Indian or Alaska Native                      2382          1.08%\n",
       "Anti-Catholic                                              1623          0.74%\n",
       "Anti-Arab                                                  1267          0.58%"
      ]
     },
     "execution_count": 11,
     "metadata": {},
     "output_type": "execute_result"
    }
   ],
   "source": [
    "bias_count_data = hate_crime_df.groupby(\"BIAS_DESC\")[\"INCIDENT_ID\"].count()\n",
    "bias_count_data_df = pd.DataFrame(bias_count_data)\n",
    "bias_count_data_df = bias_count_data_df.sort_values(\"INCIDENT_ID\",ascending=False)\n",
    "bias_count_data_df[\"% Distribution\"] = bias_count_data_df[\"INCIDENT_ID\"]/bias_count_data_df[\"INCIDENT_ID\"].sum() * 100\n",
    "bias_count_data_df[\"% Distribution\"] = bias_count_data_df[\"% Distribution\"].map('{:,.2f}%'.format)\n",
    "bias_count_data_df.head(15)"
   ]
  },
  {
   "cell_type": "markdown",
   "id": "49cf1736",
   "metadata": {},
   "source": [
    "#### Observations:\n",
    "    - 34% cases of hate crime are Anti-African American followed by Anti-Jewish and Anti-White at 13% and 11% respectively.\n",
    "    \n",
    "#### Percent Distribution of incidents across offense type\n",
    "Next we explore the OFFENSE_NAME column of the dataset. \n",
    "\n",
    "\"OFFENSE_NAME\" column list the offense type associated with each incident. This dataset has 353 unique offense type. We try to find the top categories here."
   ]
  },
  {
   "cell_type": "code",
   "execution_count": 12,
   "id": "055c0963",
   "metadata": {},
   "outputs": [
    {
     "data": {
      "text/plain": [
       "353"
      ]
     },
     "execution_count": 12,
     "metadata": {},
     "output_type": "execute_result"
    }
   ],
   "source": [
    "hate_crime_df[\"OFFENSE_NAME\"].nunique()"
   ]
  },
  {
   "cell_type": "code",
   "execution_count": 13,
   "id": "908bfba3",
   "metadata": {},
   "outputs": [
    {
     "data": {
      "text/html": [
       "<div>\n",
       "<style scoped>\n",
       "    .dataframe tbody tr th:only-of-type {\n",
       "        vertical-align: middle;\n",
       "    }\n",
       "\n",
       "    .dataframe tbody tr th {\n",
       "        vertical-align: top;\n",
       "    }\n",
       "\n",
       "    .dataframe thead th {\n",
       "        text-align: right;\n",
       "    }\n",
       "</style>\n",
       "<table border=\"1\" class=\"dataframe\">\n",
       "  <thead>\n",
       "    <tr style=\"text-align: right;\">\n",
       "      <th></th>\n",
       "      <th>INCIDENT_ID</th>\n",
       "      <th>% Distribution</th>\n",
       "    </tr>\n",
       "    <tr>\n",
       "      <th>OFFENSE_NAME</th>\n",
       "      <th></th>\n",
       "      <th></th>\n",
       "    </tr>\n",
       "  </thead>\n",
       "  <tbody>\n",
       "    <tr>\n",
       "      <th>Destruction/Damage/Vandalism of Property</th>\n",
       "      <td>66774</td>\n",
       "      <td>30.41%</td>\n",
       "    </tr>\n",
       "    <tr>\n",
       "      <th>Intimidation</th>\n",
       "      <td>64093</td>\n",
       "      <td>29.19%</td>\n",
       "    </tr>\n",
       "    <tr>\n",
       "      <th>Simple Assault</th>\n",
       "      <td>41719</td>\n",
       "      <td>19.00%</td>\n",
       "    </tr>\n",
       "    <tr>\n",
       "      <th>Aggravated Assault</th>\n",
       "      <td>22927</td>\n",
       "      <td>10.44%</td>\n",
       "    </tr>\n",
       "    <tr>\n",
       "      <th>Robbery</th>\n",
       "      <td>3703</td>\n",
       "      <td>1.69%</td>\n",
       "    </tr>\n",
       "  </tbody>\n",
       "</table>\n",
       "</div>"
      ],
      "text/plain": [
       "                                          INCIDENT_ID % Distribution\n",
       "OFFENSE_NAME                                                        \n",
       "Destruction/Damage/Vandalism of Property        66774         30.41%\n",
       "Intimidation                                    64093         29.19%\n",
       "Simple Assault                                  41719         19.00%\n",
       "Aggravated Assault                              22927         10.44%\n",
       "Robbery                                          3703          1.69%"
      ]
     },
     "execution_count": 13,
     "metadata": {},
     "output_type": "execute_result"
    }
   ],
   "source": [
    "offense_count_data = hate_crime_df.groupby(\"OFFENSE_NAME\")[\"INCIDENT_ID\"].count().sort_values(ascending=False)\n",
    "offense_count_data_df = pd.DataFrame(offense_count_data)\n",
    "offense_count_data_df[\"% Distribution\"] = offense_count_data_df[\"INCIDENT_ID\"]/offense_count_data_df[\"INCIDENT_ID\"].sum() * 100\n",
    "offense_count_data_df[\"% Distribution\"] =offense_count_data_df[\"% Distribution\"].map('{:,.2f}%'.format)\n",
    "offense_count_data_df.head(5)"
   ]
  },
  {
   "cell_type": "markdown",
   "id": "bfa7d98c",
   "metadata": {},
   "source": [
    "### 2) Do the number of hate crimes vary by region of the United States?\n",
    "\n",
    "We now subset the data to focus on 2011-2020 decade.\n",
    "And see the data Region wise. \n",
    "(Note: Here we focus on four major regions of US : 'South', 'West', 'Northeast' & 'Midwest' . We removed the  'U.S. Territories','Other' as the data was negligible and removing it helps in better analysis)\n",
    "\n",
    "##### Hate Crime Incident Count across major 4 regions in the US for the time period  2011-2020"
   ]
  },
  {
   "cell_type": "code",
   "execution_count": 34,
   "id": "b9df30c6",
   "metadata": {},
   "outputs": [
    {
     "data": {
      "text/plain": [
       "DATA_YEAR  REGION_NAME\n",
       "2009       Midwest        1407\n",
       "           Northeast      1878\n",
       "           South          1352\n",
       "           West           1976\n",
       "2010       Midwest        1299\n",
       "Name: INCIDENT_ID, dtype: int64"
      ]
     },
     "execution_count": 34,
     "metadata": {},
     "output_type": "execute_result"
    }
   ],
   "source": [
    "# Cleaning Region_Name column to have only four major regions : Northeast, Midwest. South and West\n",
    "\n",
    "hate_crime_df[\"REGION_NAME\"] = hate_crime_df[\"REGION_NAME\"].replace('U.S. Territories',np.nan)\n",
    "hate_crime_df[\"REGION_NAME\"] = hate_crime_df[\"REGION_NAME\"].replace('Other', np.nan)\n",
    "\n",
    "# Subsetting the data to include only 2011-2020 data and grouping by year and region to save as new dataframe\n",
    "hate_crime_df_last_10yr_region = hate_crime_df[hate_crime_df[\"DATA_YEAR\"]>=2009]\n",
    "hate_crime_df_group_by_region_year = hate_crime_df_last_10yr_region.groupby([\"DATA_YEAR\",\"REGION_NAME\"])\n",
    "hate_crime_df_group_by_region_year_count = hate_crime_df_group_by_region_year[\"INCIDENT_ID\"].count()\n",
    "\n",
    "hate_crime_df_group_by_region_year_count.head()"
   ]
  },
  {
   "cell_type": "code",
   "execution_count": 35,
   "id": "c5415135",
   "metadata": {},
   "outputs": [],
   "source": [
    "# defining a list to specify color for each region\n",
    "color_region = {'Midwest':'tab:cyan','Northeast':'tab:olive','South':'tab:purple','West':'tab:red'}"
   ]
  },
  {
   "cell_type": "code",
   "execution_count": 36,
   "id": "269dbba3",
   "metadata": {},
   "outputs": [
    {
     "data": {
      "image/png": "[encoded data removed]",
      "text/plain": [
       "<Figure size 1080x432 with 1 Axes>"
      ]
     },
     "metadata": {
      "needs_background": "light"
     },
     "output_type": "display_data"
    }
   ],
   "source": [
    "ax4 = hate_crime_df_group_by_region_year_count.unstack(fill_value=0).plot.area(figsize=(15,6),color=color_region)\n",
    "\n",
    "ax4.set_xlabel(\"Year\")\n",
    "ax4.set_ylabel(\"No. of incidents\")\n",
    "ax4.set_title(\"Hate Crime Incidents in the last 10 years\")\n",
    "\n",
    "plt.show()"
   ]
  },
  {
   "cell_type": "markdown",
   "id": "4ed9e18d",
   "metadata": {},
   "source": [
    "#### Observations:\n",
    "    1. West followed by Northeast constitute the major share of the hate crime incidents in the last year.\n",
    "    2. Increase in incidents in 2020 are seen across all regions\n",
    "\n",
    "However this might not give us the correct picture as this does not take in account the poulation density in each region.\n",
    "\n",
    "For this we will take census population for the last three decades region wise. Decadal data of incidents and population region wise is taken to calculate the crime rate per 100,000 people.\n",
    "\n",
    "\n",
    "\n",
    "###### Decadal incident count "
   ]
  },
  {
   "cell_type": "code",
   "execution_count": 37,
   "id": "9a485a66",
   "metadata": {},
   "outputs": [
    {
     "data": {
      "image/png": "[encoded data removed]",
      "text/plain": [
       "<Figure size 1080x432 with 1 Axes>"
      ]
     },
     "metadata": {
      "needs_background": "light"
     },
     "output_type": "display_data"
    }
   ],
   "source": [
    "region_incident_df = hate_crime_df[[\"decade_ending\",\"REGION_NAME\"]].value_counts().sort_index()\n",
    "\n",
    "ax4 = region_incident_df.unstack(fill_value=0).plot.bar(figsize=(15,6),color=color_region)\n",
    "\n",
    "ax4.set_xlabel(\"Decade ending\")\n",
    "ax4.set_ylabel(\"No. of incidents\")\n",
    "ax4.set_title(\"Hate Crime Incidents over the last 3 Decades\")\n",
    "\n",
    "plt.show()"
   ]
  },
  {
   "cell_type": "markdown",
   "id": "0807ad20",
   "metadata": {},
   "source": [
    "#### Observations:\n",
    "    1. Northeast region had the highesht shares on incidents during 1991-2000.\n",
    "    2. Following decades saw West region reporting the highest hate crime incidents.\n",
    "    3. Midwest and South region had approximately equal incidens reported across 3 decades."
   ]
  },
  {
   "cell_type": "markdown",
   "id": "eb34f39c",
   "metadata": {},
   "source": [
    "##### Importing census population data for better understanding of crime rate \n",
    "\n",
    "Source: https://www.census.gov/data/tables/time-series/dec/popchange-data-text.html"
   ]
  },
  {
   "cell_type": "code",
   "execution_count": 46,
   "id": "d1331dd0",
   "metadata": {},
   "outputs": [
    {
     "data": {
      "text/html": [
       "<div>\n",
       "<style scoped>\n",
       "    .dataframe tbody tr th:only-of-type {\n",
       "        vertical-align: middle;\n",
       "    }\n",
       "\n",
       "    .dataframe tbody tr th {\n",
       "        vertical-align: top;\n",
       "    }\n",
       "\n",
       "    .dataframe thead th {\n",
       "        text-align: right;\n",
       "    }\n",
       "</style>\n",
       "<table border=\"1\" class=\"dataframe\">\n",
       "  <thead>\n",
       "    <tr style=\"text-align: right;\">\n",
       "      <th></th>\n",
       "      <th>State or Region</th>\n",
       "      <th>2020</th>\n",
       "      <th>2010</th>\n",
       "      <th>2000</th>\n",
       "      <th>1990</th>\n",
       "      <th>1980</th>\n",
       "      <th>1970</th>\n",
       "      <th>1960</th>\n",
       "      <th>1950</th>\n",
       "      <th>1940</th>\n",
       "      <th>1930</th>\n",
       "      <th>1920</th>\n",
       "    </tr>\n",
       "  </thead>\n",
       "  <tbody>\n",
       "    <tr>\n",
       "      <th>0</th>\n",
       "      <td>Northeast</td>\n",
       "      <td>57,609,148</td>\n",
       "      <td>55,317,240</td>\n",
       "      <td>53,594,378</td>\n",
       "      <td>50,809,229</td>\n",
       "      <td>49,135,283</td>\n",
       "      <td>49,040,703</td>\n",
       "      <td>44,677,819</td>\n",
       "      <td>39,477,986</td>\n",
       "      <td>35,976,777</td>\n",
       "      <td>34,427,091</td>\n",
       "      <td>29,662,053</td>\n",
       "    </tr>\n",
       "    <tr>\n",
       "      <th>1</th>\n",
       "      <td>Midwest</td>\n",
       "      <td>68,985,454</td>\n",
       "      <td>66,927,001</td>\n",
       "      <td>64,392,776</td>\n",
       "      <td>59,668,632</td>\n",
       "      <td>58,865,670</td>\n",
       "      <td>56,571,663</td>\n",
       "      <td>51,619,139</td>\n",
       "      <td>44,460,762</td>\n",
       "      <td>40,143,332</td>\n",
       "      <td>38,594,100</td>\n",
       "      <td>34,019,792</td>\n",
       "    </tr>\n",
       "    <tr>\n",
       "      <th>2</th>\n",
       "      <td>South</td>\n",
       "      <td>126,266,107</td>\n",
       "      <td>114,555,744</td>\n",
       "      <td>100,236,820</td>\n",
       "      <td>85,445,930</td>\n",
       "      <td>75,372,362</td>\n",
       "      <td>62,795,367</td>\n",
       "      <td>54,973,113</td>\n",
       "      <td>47,197,088</td>\n",
       "      <td>41,665,901</td>\n",
       "      <td>37,857,633</td>\n",
       "      <td>33,125,803</td>\n",
       "    </tr>\n",
       "    <tr>\n",
       "      <th>3</th>\n",
       "      <td>West</td>\n",
       "      <td>78,588,572</td>\n",
       "      <td>71,945,553</td>\n",
       "      <td>63,197,932</td>\n",
       "      <td>52,786,082</td>\n",
       "      <td>43,172,490</td>\n",
       "      <td>34,804,193</td>\n",
       "      <td>28,053,104</td>\n",
       "      <td>20,189,962</td>\n",
       "      <td>14,379,119</td>\n",
       "      <td>12,323,836</td>\n",
       "      <td>9,213,920</td>\n",
       "    </tr>\n",
       "  </tbody>\n",
       "</table>\n",
       "</div>"
      ],
      "text/plain": [
       "  State or Region         2020         2010         2000        1990  \\\n",
       "0       Northeast   57,609,148   55,317,240   53,594,378  50,809,229   \n",
       "1         Midwest   68,985,454   66,927,001   64,392,776  59,668,632   \n",
       "2           South  126,266,107  114,555,744  100,236,820  85,445,930   \n",
       "3            West   78,588,572   71,945,553   63,197,932  52,786,082   \n",
       "\n",
       "         1980        1970        1960        1950        1940        1930  \\\n",
       "0  49,135,283  49,040,703  44,677,819  39,477,986  35,976,777  34,427,091   \n",
       "1  58,865,670  56,571,663  51,619,139  44,460,762  40,143,332  38,594,100   \n",
       "2  75,372,362  62,795,367  54,973,113  47,197,088  41,665,901  37,857,633   \n",
       "3  43,172,490  34,804,193  28,053,104  20,189,962  14,379,119  12,323,836   \n",
       "\n",
       "         1920  \n",
       "0  29,662,053  \n",
       "1  34,019,792  \n",
       "2  33,125,803  \n",
       "3   9,213,920  "
      ]
     },
     "execution_count": 46,
     "metadata": {},
     "output_type": "execute_result"
    }
   ],
   "source": [
    "pop_census_df = pd.read_csv(\"Census-Population-by-Region.csv\")\n",
    "pop_census_df"
   ]
  },
  {
   "cell_type": "code",
   "execution_count": 47,
   "id": "4d322695",
   "metadata": {},
   "outputs": [
    {
     "data": {
      "text/html": [
       "<div>\n",
       "<style scoped>\n",
       "    .dataframe tbody tr th:only-of-type {\n",
       "        vertical-align: middle;\n",
       "    }\n",
       "\n",
       "    .dataframe tbody tr th {\n",
       "        vertical-align: top;\n",
       "    }\n",
       "\n",
       "    .dataframe thead th {\n",
       "        text-align: right;\n",
       "    }\n",
       "</style>\n",
       "<table border=\"1\" class=\"dataframe\">\n",
       "  <thead>\n",
       "    <tr style=\"text-align: right;\">\n",
       "      <th></th>\n",
       "      <th>2020</th>\n",
       "      <th>2010</th>\n",
       "      <th>2000</th>\n",
       "    </tr>\n",
       "    <tr>\n",
       "      <th>State or Region</th>\n",
       "      <th></th>\n",
       "      <th></th>\n",
       "      <th></th>\n",
       "    </tr>\n",
       "  </thead>\n",
       "  <tbody>\n",
       "    <tr>\n",
       "      <th>Northeast</th>\n",
       "      <td>57,609,148</td>\n",
       "      <td>55,317,240</td>\n",
       "      <td>53,594,378</td>\n",
       "    </tr>\n",
       "    <tr>\n",
       "      <th>Midwest</th>\n",
       "      <td>68,985,454</td>\n",
       "      <td>66,927,001</td>\n",
       "      <td>64,392,776</td>\n",
       "    </tr>\n",
       "    <tr>\n",
       "      <th>South</th>\n",
       "      <td>126,266,107</td>\n",
       "      <td>114,555,744</td>\n",
       "      <td>100,236,820</td>\n",
       "    </tr>\n",
       "    <tr>\n",
       "      <th>West</th>\n",
       "      <td>78,588,572</td>\n",
       "      <td>71,945,553</td>\n",
       "      <td>63,197,932</td>\n",
       "    </tr>\n",
       "  </tbody>\n",
       "</table>\n",
       "</div>"
      ],
      "text/plain": [
       "                        2020         2010         2000\n",
       "State or Region                                       \n",
       "Northeast         57,609,148   55,317,240   53,594,378\n",
       "Midwest           68,985,454   66,927,001   64,392,776\n",
       "South            126,266,107  114,555,744  100,236,820\n",
       "West              78,588,572   71,945,553   63,197,932"
      ]
     },
     "execution_count": 47,
     "metadata": {},
     "output_type": "execute_result"
    }
   ],
   "source": [
    "# Filtering down to last 3 decades of population data required for anlysis\n",
    "\n",
    "pop_census_df = pop_census_df[[\"State or Region\",\"2020\",\"2010\",\"2000\"]]\n",
    "pop_census_df = pop_census_df.set_index(\"State or Region\")\n",
    "pop_census_df"
   ]
  },
  {
   "cell_type": "code",
   "execution_count": 48,
   "id": "a0ec433d",
   "metadata": {},
   "outputs": [
    {
     "data": {
      "text/html": [
       "<div>\n",
       "<style scoped>\n",
       "    .dataframe tbody tr th:only-of-type {\n",
       "        vertical-align: middle;\n",
       "    }\n",
       "\n",
       "    .dataframe tbody tr th {\n",
       "        vertical-align: top;\n",
       "    }\n",
       "\n",
       "    .dataframe thead th {\n",
       "        text-align: right;\n",
       "    }\n",
       "</style>\n",
       "<table border=\"1\" class=\"dataframe\">\n",
       "  <thead>\n",
       "    <tr style=\"text-align: right;\">\n",
       "      <th></th>\n",
       "      <th></th>\n",
       "      <th>Incident_Count</th>\n",
       "      <th>population</th>\n",
       "    </tr>\n",
       "    <tr>\n",
       "      <th>decade_ending</th>\n",
       "      <th>REGION_NAME</th>\n",
       "      <th></th>\n",
       "      <th></th>\n",
       "    </tr>\n",
       "  </thead>\n",
       "  <tbody>\n",
       "    <tr>\n",
       "      <th rowspan=\"4\" valign=\"top\">2000</th>\n",
       "      <th>Midwest</th>\n",
       "      <td>13329</td>\n",
       "      <td>64392776</td>\n",
       "    </tr>\n",
       "    <tr>\n",
       "      <th>Northeast</th>\n",
       "      <td>24414</td>\n",
       "      <td>53594378</td>\n",
       "    </tr>\n",
       "    <tr>\n",
       "      <th>South</th>\n",
       "      <td>13554</td>\n",
       "      <td>100236820</td>\n",
       "    </tr>\n",
       "    <tr>\n",
       "      <th>West</th>\n",
       "      <td>22433</td>\n",
       "      <td>63197932</td>\n",
       "    </tr>\n",
       "    <tr>\n",
       "      <th rowspan=\"4\" valign=\"top\">2010</th>\n",
       "      <th>Midwest</th>\n",
       "      <td>15727</td>\n",
       "      <td>66927001</td>\n",
       "    </tr>\n",
       "    <tr>\n",
       "      <th>Northeast</th>\n",
       "      <td>20350</td>\n",
       "      <td>55317240</td>\n",
       "    </tr>\n",
       "    <tr>\n",
       "      <th>South</th>\n",
       "      <td>16707</td>\n",
       "      <td>114555744</td>\n",
       "    </tr>\n",
       "    <tr>\n",
       "      <th>West</th>\n",
       "      <td>23693</td>\n",
       "      <td>71945553</td>\n",
       "    </tr>\n",
       "    <tr>\n",
       "      <th rowspan=\"4\" valign=\"top\">2020</th>\n",
       "      <th>Midwest</th>\n",
       "      <td>14352</td>\n",
       "      <td>68985454</td>\n",
       "    </tr>\n",
       "    <tr>\n",
       "      <th>Northeast</th>\n",
       "      <td>18000</td>\n",
       "      <td>57609148</td>\n",
       "    </tr>\n",
       "    <tr>\n",
       "      <th>South</th>\n",
       "      <td>15717</td>\n",
       "      <td>126266107</td>\n",
       "    </tr>\n",
       "    <tr>\n",
       "      <th>West</th>\n",
       "      <td>20870</td>\n",
       "      <td>78588572</td>\n",
       "    </tr>\n",
       "  </tbody>\n",
       "</table>\n",
       "</div>"
      ],
      "text/plain": [
       "                           Incident_Count  population\n",
       "decade_ending REGION_NAME                            \n",
       "2000          Midwest               13329    64392776\n",
       "              Northeast             24414    53594378\n",
       "              South                 13554   100236820\n",
       "              West                  22433    63197932\n",
       "2010          Midwest               15727    66927001\n",
       "              Northeast             20350    55317240\n",
       "              South                 16707   114555744\n",
       "              West                  23693    71945553\n",
       "2020          Midwest               14352    68985454\n",
       "              Northeast             18000    57609148\n",
       "              South                 15717   126266107\n",
       "              West                  20870    78588572"
      ]
     },
     "execution_count": 48,
     "metadata": {},
     "output_type": "execute_result"
    }
   ],
   "source": [
    "region_incident_df"
   ]
  },
  {
   "cell_type": "code",
   "execution_count": 49,
   "id": "33ba2a11",
   "metadata": {},
   "outputs": [
    {
     "data": {
      "text/html": [
       "<div>\n",
       "<style scoped>\n",
       "    .dataframe tbody tr th:only-of-type {\n",
       "        vertical-align: middle;\n",
       "    }\n",
       "\n",
       "    .dataframe tbody tr th {\n",
       "        vertical-align: top;\n",
       "    }\n",
       "\n",
       "    .dataframe thead th {\n",
       "        text-align: right;\n",
       "    }\n",
       "</style>\n",
       "<table border=\"1\" class=\"dataframe\">\n",
       "  <thead>\n",
       "    <tr style=\"text-align: right;\">\n",
       "      <th></th>\n",
       "      <th></th>\n",
       "      <th>Incident_Count</th>\n",
       "    </tr>\n",
       "    <tr>\n",
       "      <th>decade_ending</th>\n",
       "      <th>REGION_NAME</th>\n",
       "      <th></th>\n",
       "    </tr>\n",
       "  </thead>\n",
       "  <tbody>\n",
       "    <tr>\n",
       "      <th rowspan=\"4\" valign=\"top\">2000</th>\n",
       "      <th>Midwest</th>\n",
       "      <td>13329</td>\n",
       "    </tr>\n",
       "    <tr>\n",
       "      <th>Northeast</th>\n",
       "      <td>24414</td>\n",
       "    </tr>\n",
       "    <tr>\n",
       "      <th>South</th>\n",
       "      <td>13554</td>\n",
       "    </tr>\n",
       "    <tr>\n",
       "      <th>West</th>\n",
       "      <td>22433</td>\n",
       "    </tr>\n",
       "    <tr>\n",
       "      <th rowspan=\"4\" valign=\"top\">2010</th>\n",
       "      <th>Midwest</th>\n",
       "      <td>15727</td>\n",
       "    </tr>\n",
       "    <tr>\n",
       "      <th>Northeast</th>\n",
       "      <td>20350</td>\n",
       "    </tr>\n",
       "    <tr>\n",
       "      <th>South</th>\n",
       "      <td>16707</td>\n",
       "    </tr>\n",
       "    <tr>\n",
       "      <th>West</th>\n",
       "      <td>23693</td>\n",
       "    </tr>\n",
       "    <tr>\n",
       "      <th rowspan=\"4\" valign=\"top\">2020</th>\n",
       "      <th>Midwest</th>\n",
       "      <td>14352</td>\n",
       "    </tr>\n",
       "    <tr>\n",
       "      <th>Northeast</th>\n",
       "      <td>18000</td>\n",
       "    </tr>\n",
       "    <tr>\n",
       "      <th>South</th>\n",
       "      <td>15717</td>\n",
       "    </tr>\n",
       "    <tr>\n",
       "      <th>West</th>\n",
       "      <td>20870</td>\n",
       "    </tr>\n",
       "  </tbody>\n",
       "</table>\n",
       "</div>"
      ],
      "text/plain": [
       "                           Incident_Count\n",
       "decade_ending REGION_NAME                \n",
       "2000          Midwest               13329\n",
       "              Northeast             24414\n",
       "              South                 13554\n",
       "              West                  22433\n",
       "2010          Midwest               15727\n",
       "              Northeast             20350\n",
       "              South                 16707\n",
       "              West                  23693\n",
       "2020          Midwest               14352\n",
       "              Northeast             18000\n",
       "              South                 15717\n",
       "              West                  20870"
      ]
     },
     "execution_count": 49,
     "metadata": {},
     "output_type": "execute_result"
    }
   ],
   "source": [
    "# Renaming colums and setting up index for decdal region wise dataframe \"region_incident_df\" \n",
    "region_incident_df = region_incident_df.reset_index()\n",
    "region_incident_df = region_incident_df.rename(columns = {0:\"Incident_Count\"})\n",
    "region_incident_df = region_incident_df[[\"decade_ending\", \"REGION_NAME\", \"Incident_Count\"]]\n",
    "region_incident_df = region_incident_df.set_index([\"decade_ending\",\"REGION_NAME\"])\n",
    "region_incident_df"
   ]
  },
  {
   "cell_type": "code",
   "execution_count": 50,
   "id": "89e22b3f",
   "metadata": {},
   "outputs": [
    {
     "name": "stdout",
     "output_type": "stream",
     "text": [
      "<class 'pandas.core.frame.DataFrame'>\n",
      "MultiIndex: 12 entries, ('2000', 'Midwest') to ('2020', 'West')\n",
      "Data columns (total 2 columns):\n",
      " #   Column          Non-Null Count  Dtype \n",
      "---  ------          --------------  ----- \n",
      " 0   Incident_Count  12 non-null     int64 \n",
      " 1   population      12 non-null     object\n",
      "dtypes: int64(1), object(1)\n",
      "memory usage: 677.0+ bytes\n",
      "None\n",
      " \n",
      "<class 'pandas.core.frame.DataFrame'>\n",
      "MultiIndex: 12 entries, ('2000', 'Midwest') to ('2020', 'West')\n",
      "Data columns (total 2 columns):\n",
      " #   Column          Non-Null Count  Dtype\n",
      "---  ------          --------------  -----\n",
      " 0   Incident_Count  12 non-null     int64\n",
      " 1   population      12 non-null     int32\n",
      "dtypes: int32(1), int64(1)\n",
      "memory usage: 629.0+ bytes\n"
     ]
    }
   ],
   "source": [
    "# Populating a list with census population data and adding it as column to the region_incident_df datafrane\n",
    "population_data = []\n",
    "for index, row in region_incident_df.iterrows():\n",
    "    population_data.append(pop_census_df[index[0]][index[1]])\n",
    "\n",
    "region_incident_df[\"population\"] = population_data\n",
    "print(region_incident_df.info())\n",
    "# The population column is of the object type and needs to be converted to int\n",
    "region_incident_df[\"population\"] = region_incident_df[\"population\"].convert_dtypes()\n",
    "region_incident_df[\"population\"] = region_incident_df[\"population\"].str.replace(',','')\n",
    "region_incident_df[\"population\"] = region_incident_df[\"population\"].astype(int)\n",
    "print(\" \")\n",
    "region_incident_df.info()"
   ]
  },
  {
   "cell_type": "code",
   "execution_count": 51,
   "id": "31c874ff",
   "metadata": {},
   "outputs": [
    {
     "data": {
      "text/html": [
       "<div>\n",
       "<style scoped>\n",
       "    .dataframe tbody tr th:only-of-type {\n",
       "        vertical-align: middle;\n",
       "    }\n",
       "\n",
       "    .dataframe tbody tr th {\n",
       "        vertical-align: top;\n",
       "    }\n",
       "\n",
       "    .dataframe thead th {\n",
       "        text-align: right;\n",
       "    }\n",
       "</style>\n",
       "<table border=\"1\" class=\"dataframe\">\n",
       "  <thead>\n",
       "    <tr style=\"text-align: right;\">\n",
       "      <th></th>\n",
       "      <th></th>\n",
       "      <th>Incident_Count</th>\n",
       "      <th>population</th>\n",
       "    </tr>\n",
       "    <tr>\n",
       "      <th>decade_ending</th>\n",
       "      <th>REGION_NAME</th>\n",
       "      <th></th>\n",
       "      <th></th>\n",
       "    </tr>\n",
       "  </thead>\n",
       "  <tbody>\n",
       "    <tr>\n",
       "      <th rowspan=\"4\" valign=\"top\">2000</th>\n",
       "      <th>Midwest</th>\n",
       "      <td>13329</td>\n",
       "      <td>64392776</td>\n",
       "    </tr>\n",
       "    <tr>\n",
       "      <th>Northeast</th>\n",
       "      <td>24414</td>\n",
       "      <td>53594378</td>\n",
       "    </tr>\n",
       "    <tr>\n",
       "      <th>South</th>\n",
       "      <td>13554</td>\n",
       "      <td>100236820</td>\n",
       "    </tr>\n",
       "    <tr>\n",
       "      <th>West</th>\n",
       "      <td>22433</td>\n",
       "      <td>63197932</td>\n",
       "    </tr>\n",
       "    <tr>\n",
       "      <th rowspan=\"4\" valign=\"top\">2010</th>\n",
       "      <th>Midwest</th>\n",
       "      <td>15727</td>\n",
       "      <td>66927001</td>\n",
       "    </tr>\n",
       "    <tr>\n",
       "      <th>Northeast</th>\n",
       "      <td>20350</td>\n",
       "      <td>55317240</td>\n",
       "    </tr>\n",
       "    <tr>\n",
       "      <th>South</th>\n",
       "      <td>16707</td>\n",
       "      <td>114555744</td>\n",
       "    </tr>\n",
       "    <tr>\n",
       "      <th>West</th>\n",
       "      <td>23693</td>\n",
       "      <td>71945553</td>\n",
       "    </tr>\n",
       "    <tr>\n",
       "      <th rowspan=\"4\" valign=\"top\">2020</th>\n",
       "      <th>Midwest</th>\n",
       "      <td>14352</td>\n",
       "      <td>68985454</td>\n",
       "    </tr>\n",
       "    <tr>\n",
       "      <th>Northeast</th>\n",
       "      <td>18000</td>\n",
       "      <td>57609148</td>\n",
       "    </tr>\n",
       "    <tr>\n",
       "      <th>South</th>\n",
       "      <td>15717</td>\n",
       "      <td>126266107</td>\n",
       "    </tr>\n",
       "    <tr>\n",
       "      <th>West</th>\n",
       "      <td>20870</td>\n",
       "      <td>78588572</td>\n",
       "    </tr>\n",
       "  </tbody>\n",
       "</table>\n",
       "</div>"
      ],
      "text/plain": [
       "                           Incident_Count  population\n",
       "decade_ending REGION_NAME                            \n",
       "2000          Midwest               13329    64392776\n",
       "              Northeast             24414    53594378\n",
       "              South                 13554   100236820\n",
       "              West                  22433    63197932\n",
       "2010          Midwest               15727    66927001\n",
       "              Northeast             20350    55317240\n",
       "              South                 16707   114555744\n",
       "              West                  23693    71945553\n",
       "2020          Midwest               14352    68985454\n",
       "              Northeast             18000    57609148\n",
       "              South                 15717   126266107\n",
       "              West                  20870    78588572"
      ]
     },
     "execution_count": 51,
     "metadata": {},
     "output_type": "execute_result"
    }
   ],
   "source": [
    "# Now we have the incident count and population data grouped by decade and region\n",
    "region_incident_df"
   ]
  },
  {
   "cell_type": "markdown",
   "id": "c0a07067",
   "metadata": {},
   "source": [
    "##### Calculating the crime rate per 100,000 people and plotting the data"
   ]
  },
  {
   "cell_type": "code",
   "execution_count": 52,
   "id": "511d6010",
   "metadata": {},
   "outputs": [
    {
     "data": {
      "text/html": [
       "<div>\n",
       "<style scoped>\n",
       "    .dataframe tbody tr th:only-of-type {\n",
       "        vertical-align: middle;\n",
       "    }\n",
       "\n",
       "    .dataframe tbody tr th {\n",
       "        vertical-align: top;\n",
       "    }\n",
       "\n",
       "    .dataframe thead th {\n",
       "        text-align: right;\n",
       "    }\n",
       "</style>\n",
       "<table border=\"1\" class=\"dataframe\">\n",
       "  <thead>\n",
       "    <tr style=\"text-align: right;\">\n",
       "      <th></th>\n",
       "      <th></th>\n",
       "      <th>Incident_Count</th>\n",
       "      <th>population</th>\n",
       "      <th>crime_rate</th>\n",
       "    </tr>\n",
       "    <tr>\n",
       "      <th>decade_ending</th>\n",
       "      <th>REGION_NAME</th>\n",
       "      <th></th>\n",
       "      <th></th>\n",
       "      <th></th>\n",
       "    </tr>\n",
       "  </thead>\n",
       "  <tbody>\n",
       "    <tr>\n",
       "      <th rowspan=\"4\" valign=\"top\">2000</th>\n",
       "      <th>Midwest</th>\n",
       "      <td>13329</td>\n",
       "      <td>64392776</td>\n",
       "      <td>20.699527</td>\n",
       "    </tr>\n",
       "    <tr>\n",
       "      <th>Northeast</th>\n",
       "      <td>24414</td>\n",
       "      <td>53594378</td>\n",
       "      <td>45.553285</td>\n",
       "    </tr>\n",
       "    <tr>\n",
       "      <th>South</th>\n",
       "      <td>13554</td>\n",
       "      <td>100236820</td>\n",
       "      <td>13.521977</td>\n",
       "    </tr>\n",
       "    <tr>\n",
       "      <th>West</th>\n",
       "      <td>22433</td>\n",
       "      <td>63197932</td>\n",
       "      <td>35.496415</td>\n",
       "    </tr>\n",
       "    <tr>\n",
       "      <th rowspan=\"4\" valign=\"top\">2010</th>\n",
       "      <th>Midwest</th>\n",
       "      <td>15727</td>\n",
       "      <td>66927001</td>\n",
       "      <td>23.498737</td>\n",
       "    </tr>\n",
       "    <tr>\n",
       "      <th>Northeast</th>\n",
       "      <td>20350</td>\n",
       "      <td>55317240</td>\n",
       "      <td>36.787808</td>\n",
       "    </tr>\n",
       "    <tr>\n",
       "      <th>South</th>\n",
       "      <td>16707</td>\n",
       "      <td>114555744</td>\n",
       "      <td>14.584166</td>\n",
       "    </tr>\n",
       "    <tr>\n",
       "      <th>West</th>\n",
       "      <td>23693</td>\n",
       "      <td>71945553</td>\n",
       "      <td>32.931848</td>\n",
       "    </tr>\n",
       "    <tr>\n",
       "      <th rowspan=\"4\" valign=\"top\">2020</th>\n",
       "      <th>Midwest</th>\n",
       "      <td>14352</td>\n",
       "      <td>68985454</td>\n",
       "      <td>20.804386</td>\n",
       "    </tr>\n",
       "    <tr>\n",
       "      <th>Northeast</th>\n",
       "      <td>18000</td>\n",
       "      <td>57609148</td>\n",
       "      <td>31.245038</td>\n",
       "    </tr>\n",
       "    <tr>\n",
       "      <th>South</th>\n",
       "      <td>15717</td>\n",
       "      <td>126266107</td>\n",
       "      <td>12.447521</td>\n",
       "    </tr>\n",
       "    <tr>\n",
       "      <th>West</th>\n",
       "      <td>20870</td>\n",
       "      <td>78588572</td>\n",
       "      <td>26.556024</td>\n",
       "    </tr>\n",
       "  </tbody>\n",
       "</table>\n",
       "</div>"
      ],
      "text/plain": [
       "                           Incident_Count  population  crime_rate\n",
       "decade_ending REGION_NAME                                        \n",
       "2000          Midwest               13329    64392776   20.699527\n",
       "              Northeast             24414    53594378   45.553285\n",
       "              South                 13554   100236820   13.521977\n",
       "              West                  22433    63197932   35.496415\n",
       "2010          Midwest               15727    66927001   23.498737\n",
       "              Northeast             20350    55317240   36.787808\n",
       "              South                 16707   114555744   14.584166\n",
       "              West                  23693    71945553   32.931848\n",
       "2020          Midwest               14352    68985454   20.804386\n",
       "              Northeast             18000    57609148   31.245038\n",
       "              South                 15717   126266107   12.447521\n",
       "              West                  20870    78588572   26.556024"
      ]
     },
     "execution_count": 52,
     "metadata": {},
     "output_type": "execute_result"
    }
   ],
   "source": [
    "# Crime rate per 100000 = incident count / population * 100000\n",
    "\n",
    "region_incident_df[\"crime_rate\"] = (region_incident_df[\"Incident_Count\"]/region_incident_df[\"population\"]) * 100000\n",
    "region_incident_df"
   ]
  },
  {
   "cell_type": "code",
   "execution_count": 32,
   "id": "aed545ed",
   "metadata": {},
   "outputs": [
    {
     "data": {
      "image/png": "[encoded data removed]",
      "text/plain": [
       "<Figure size 1080x432 with 1 Axes>"
      ]
     },
     "metadata": {
      "needs_background": "light"
     },
     "output_type": "display_data"
    }
   ],
   "source": [
    "# Plotting for decadal crime rate data\n",
    "\n",
    "ax5 = region_incident_df[\"crime_rate\"].unstack(fill_value=0).plot.bar(figsize=(15,6),color=color_region)\n",
    "\n",
    "ax5.set_xlabel(\"Decade\")\n",
    "ax5.set_ylabel(\"Crime Rate per 100,000 people\")\n",
    "ax5.set_title(\"Hate Crime Incidents in the last 10 years\")\n",
    "\n",
    "ym = stats.hmean(region_incident_df[\"crime_rate\"])\n",
    "ax5.axhline(ym, color='black', linewidth=2, linestyle = '--')\n",
    "ax5.annotate('H_Mean: {:0.2f}'.format(ym), xy=(0.3, ym), xytext=(0.3,ym+5),arrowprops=dict(arrowstyle='-|>', fc='black', shrinkA=0, shrinkB=0,\n",
    "                            connectionstyle='angle,angleA=0,angleB=90,rad=10'))\n",
    "\n",
    "plt.show()"
   ]
  },
  {
   "cell_type": "markdown",
   "id": "458a0d00",
   "metadata": {},
   "source": [
    "#### Observations:\n",
    "    1. With crime rate we can deduce that that hate crime incidents per 100,000 people are higher in Northeast region followed by West regon\n",
    "    2. As observed before the with incident counts, crime rate too across regions has decreased in last 3 decades\n",
    "    3. On an average across all four region 22 incidents of hate crime are reported for every 100,000 people."
   ]
  },
  {
   "cell_type": "code",
   "execution_count": 53,
   "id": "be50abaa",
   "metadata": {},
   "outputs": [],
   "source": [
    "# Reset hate_crime_df for further analysis\n",
    "hate_crime_df = pd.read_csv(fbi_crime, low_memory=False)"
   ]
  },
  {
   "cell_type": "markdown",
   "id": "3e1901cd",
   "metadata": {},
   "source": [
    "### 3) How common are multiple offenses/biases vs. single offenses/biases? Are they related to each other?\n",
    "\n",
    "An 'offense' is a crime committed by a person. One person can commit either one offense (single offense) or multiple offenses. \n",
    "A 'bias' in this data set is a prejudice and/or hateful reason for committing the crime that is based around the victim's perceived or real identity (i.e. bias against a gender, race, religion, etc.). An offender can have one bias (single bias) that motivates a hate crime or several (multiple bias). \n",
    "\n",
    "To determine whether single offenses/biases were more common than multiple offenses/biases, the hate crime data frame was grouped by 'multiple offense' and then later grouped by 'multiple bias.' Counts for both groups were obtained to view the differing frequencies."
   ]
  },
  {
   "cell_type": "markdown",
   "id": "69f01fda",
   "metadata": {},
   "source": [
    "**Offense**"
   ]
  },
  {
   "cell_type": "code",
   "execution_count": null,
   "id": "205bb676",
   "metadata": {},
   "outputs": [],
   "source": [
    "# Group by 'multiple offense' to see if multiple or single offenses are more common\n",
    "# Count by incident_id to obtain total values\n",
    "offense_type = hate_crime_df.groupby('MULTIPLE_OFFENSE')['INCIDENT_ID'].count()\n",
    "offense_type"
   ]
  },
  {
   "cell_type": "markdown",
   "id": "b1a0a611",
   "metadata": {},
   "source": [
    "**Bias**"
   ]
  },
  {
   "cell_type": "code",
   "execution_count": null,
   "id": "7c5843d3",
   "metadata": {},
   "outputs": [],
   "source": [
    "# Group by 'multiple bias' to see if multiple or single biases are more common\n",
    "# Count by incident_id to obtain total values\n",
    "bias_type = hate_crime_df.groupby('MULTIPLE_BIAS')['INCIDENT_ID'].count()\n",
    "bias_type"
   ]
  },
  {
   "cell_type": "markdown",
   "id": "863503d8",
   "metadata": {},
   "source": [
    "**Offense and Bias**\n",
    "\n",
    "Next, both groups were placed in a data frame in order to summarize by their proportions (rather than counts only)."
   ]
  },
  {
   "cell_type": "code",
   "execution_count": null,
   "id": "c4c8ea7d",
   "metadata": {},
   "outputs": [],
   "source": [
    "# Create a data frame that displays the counts of multiple offense vs. single offense, as well as the counts for multiple\n",
    "  # bias vs. single bias. Also include the proportions for both, so that it is easier to interpret. \n",
    "\n",
    "# Create data frame\n",
    "offense_bias = pd.DataFrame({'Offense':offense_type,\n",
    "                            'Proportion_Offense':offense_type/sum(offense_type), #calculate proportion \n",
    "                             'Bias':bias_type,\n",
    "                             'Proportion_Bias':bias_type/sum(bias_type) #calculate proportion\n",
    "                            })\n",
    "offense_bias"
   ]
  },
  {
   "cell_type": "markdown",
   "id": "4f911c1e",
   "metadata": {},
   "source": [
    "The data clearly show that a single offense/bias is much more common than multiple offenses/biases. Specifically, about 4.43% of hate crimes in our data set involved multiple offenses, vs. 95.57% involving a single offense. \n",
    "\n",
    "This difference was even more pronounced when looking at bias. Less than 1% (0.46%) of hate crimes in our data set involved multiple biases vs. 99.44% of hate crimes involved a single bias."
   ]
  },
  {
   "cell_type": "markdown",
   "id": "29ab1bc1",
   "metadata": {},
   "source": [
    "**Visualizing these proportions**\n",
    "\n",
    "To truly see the wide range between multiple offenses/biases vs. single offenses/biases, the data were ploted through a bar chart.\n",
    "\n",
    "We can clearly see that hate crimes involving a single offense/bias are much more common than hate crimes involving multiple offenses/biases."
   ]
  },
  {
   "cell_type": "code",
   "execution_count": null,
   "id": "0192a738",
   "metadata": {},
   "outputs": [],
   "source": [
    "# Create a bar plot to visually display the proportions\n",
    "fig = offense_bias[['Proportion_Offense', 'Proportion_Bias']].plot(kind='bar', \n",
    "                                       xlabel='',\n",
    "                                       ylabel='Proportion')\n",
    "plt.xticks(rotation=0)\n",
    "plt.title('A single offense/bias is much more common than multiple', fontsize=14, fontweight='bold')\n",
    "plt.legend(loc='upper left', fancybox=True, framealpha=1, borderpad=1)\n",
    "fig.set_xticklabels(['Multiple','Single'])\n",
    "fig.legend(labels=['Offense','Bias'])\n",
    "\n",
    "# Save figure and then display\n",
    "plt.savefig('OffenseBiasBar.png', format='png', dpi=150, bbox_inches='tight')\n",
    "plt.show()"
   ]
  },
  {
   "cell_type": "markdown",
   "id": "a8ee5022",
   "metadata": {},
   "source": [
    "**Multiple Offenses/Biases only**"
   ]
  },
  {
   "cell_type": "markdown",
   "id": "1291bbfb",
   "metadata": {},
   "source": [
    "The visual above is meant to provide an overall picture of the data (how much more common single offenses/biases are than multiple).\n",
    "\n",
    "An additional chart was created to \"zoom in\" to the multiple offenses/biases group. This allows us to better visualize the differences between multiple offenses and multiple biases."
   ]
  },
  {
   "cell_type": "code",
   "execution_count": null,
   "id": "f13ef110",
   "metadata": {},
   "outputs": [],
   "source": [
    "# First, we slice the data frame to only include the first row, which represents multiple biases/offenses.\n",
    "M_only = pd.DataFrame(offense_bias.loc[['M']])\n",
    "M_only # display the data"
   ]
  },
  {
   "cell_type": "markdown",
   "id": "52a71faf",
   "metadata": {},
   "source": [
    "The chart below better displays that having multiple offenses for one hate crime is more common than having multiple biases in one hate crime. Because the proportions for the 'multiple' group were so small, a separate visual for this group was necessary."
   ]
  },
  {
   "cell_type": "code",
   "execution_count": null,
   "id": "3c4f0542",
   "metadata": {},
   "outputs": [],
   "source": [
    "# Create a bar plot to visually display the proportions\n",
    "fig = M_only[['Proportion_Offense', 'Proportion_Bias']].plot(kind='bar', \n",
    "                                       xlabel='Multiple',\n",
    "                                       ylabel='Proportion')\n",
    "plt.xticks(rotation=45)\n",
    "plt.title('Multiple offenses are more common than multiple biases', fontsize=14, fontweight='bold')\n",
    "plt.legend(loc='upper right', fancybox=True, framealpha=1, borderpad=1)\n",
    "fig.legend(labels=['Offense','Bias'])\n",
    "fig.set_xticks([])\n",
    "\n",
    "# Save figure and then display\n",
    "plt.savefig('multbar.png', format='png', dpi=150, bbox_inches='tight')\n",
    "plt.show()"
   ]
  },
  {
   "cell_type": "markdown",
   "id": "ff749a55",
   "metadata": {},
   "source": [
    "**Next, we determine whether biases and offenses are related to each other?**\n",
    "\n",
    "Because the \"offense\" and \"bias\" variables are both categorical and dichotomous (M vs. S), we can run a Chi-square analysis to see whether the two variables are related or not.\n",
    "\n",
    "The null hypothesis is that offense number and bias number are independent of each other. The alternative hypothesis (what we are testing for) is that offense number is *dependent* upon bias number.\n",
    "\n",
    "To do this, we have to gather the \"observed\" numbers in our data set: (multiple offense with multiple bias; multiple offense with single bias; single offense with multiple bias; single offense with single bias). We have to compare the observed values to what we would \"expect\" to see in our population. We compare the observed and the expected to determine whether the difference between observed and expected happened just by chance (not significant), OR whether the difference is unlikely to happen just by chance (significant). If the test is significant, there is likely some sort of relationship between offense number and bias number. "
   ]
  },
  {
   "cell_type": "markdown",
   "id": "1bc9c584",
   "metadata": {},
   "source": [
    "**Determine how many incidents involved multiple bias AND multiple offense**\n",
    "\n",
    "Answer: 235 incidents"
   ]
  },
  {
   "cell_type": "code",
   "execution_count": null,
   "id": "b45a9f7a",
   "metadata": {},
   "outputs": [],
   "source": [
    "# Check to see when there was a multiple offense with a multiple bias\n",
    "hate_crime_df.loc[(hate_crime_df['MULTIPLE_BIAS']=='M') & (hate_crime_df['MULTIPLE_OFFENSE']=='M')]\n",
    "\n",
    "# This indicates 235 occurences involved multiple bias with multiple offense\n",
    "\n",
    "# Get length of the index of the slice to count how many\n",
    "len(hate_crime_df.loc[(hate_crime_df['MULTIPLE_BIAS']=='M') & (hate_crime_df['MULTIPLE_OFFENSE']=='M')].index)"
   ]
  },
  {
   "cell_type": "markdown",
   "id": "46517a39",
   "metadata": {},
   "source": [
    "**Determine how many incidents involved single bias AND single offense**\n",
    "\n",
    "Answer: 209,073 incidents"
   ]
  },
  {
   "cell_type": "code",
   "execution_count": null,
   "id": "e76ec24e",
   "metadata": {},
   "outputs": [],
   "source": [
    "# Check to see when there was a single offense with a single bias\n",
    "hate_crime_df.loc[(hate_crime_df['MULTIPLE_BIAS']=='S') & (hate_crime_df['MULTIPLE_OFFENSE']=='S')]\n",
    "\n",
    "# This indicates 209,073 occurences involved a single bias with a single offense\n",
    "\n",
    "# Get length of the index of the slice to count how many\n",
    "len(hate_crime_df.loc[(hate_crime_df['MULTIPLE_BIAS']=='S') & (hate_crime_df['MULTIPLE_OFFENSE']=='S')].index)"
   ]
  },
  {
   "cell_type": "markdown",
   "id": "3d3e92a8",
   "metadata": {},
   "source": [
    "**Determine how many incidents involved multiple bias AND single offense**\n",
    "\n",
    "Answer: 784 incidents"
   ]
  },
  {
   "cell_type": "code",
   "execution_count": null,
   "id": "2f1e0eab",
   "metadata": {},
   "outputs": [],
   "source": [
    "# Check to see when there was a single offense with multiple bias\n",
    "hate_crime_df.loc[(hate_crime_df['MULTIPLE_BIAS']=='M') & (hate_crime_df['MULTIPLE_OFFENSE']=='S')]\n",
    "\n",
    "# This indicates that 784 occurences involved multiple bias with a single offense\n",
    "\n",
    "# Get length of the index of the slice to count how many\n",
    "len(hate_crime_df.loc[(hate_crime_df['MULTIPLE_BIAS']=='M') & (hate_crime_df['MULTIPLE_OFFENSE']=='S')].index)"
   ]
  },
  {
   "cell_type": "markdown",
   "id": "fcc3cde4",
   "metadata": {},
   "source": [
    "**Determine how many incidents involved single bias AND multiple offense**\n",
    "\n",
    "Answer: 9485 incidents"
   ]
  },
  {
   "cell_type": "code",
   "execution_count": null,
   "id": "bc8e3204",
   "metadata": {},
   "outputs": [],
   "source": [
    "# Check to see when there was multiple offenses with a single bias\n",
    "hate_crime_df.loc[(hate_crime_df['MULTIPLE_BIAS']=='S') & (hate_crime_df['MULTIPLE_OFFENSE']=='M')]\n",
    "\n",
    "# This indicates that 9485 occurences involved multiple bias with a single offense\n",
    "\n",
    "# Get length of the index of the slice to count how many\n",
    "len(hate_crime_df.loc[(hate_crime_df['MULTIPLE_BIAS']=='S') & (hate_crime_df['MULTIPLE_OFFENSE']=='M')].index)"
   ]
  },
  {
   "cell_type": "markdown",
   "id": "23cc6498",
   "metadata": {},
   "source": [
    "Now that we know the observed values in our data frame for all of the combinations, we can add them into an array of observed values. We will call the array \"observed.\" "
   ]
  },
  {
   "cell_type": "code",
   "execution_count": null,
   "id": "9a67fea2",
   "metadata": {},
   "outputs": [],
   "source": [
    "# Create an array with the observed values. We will need this to run the Chi-square.\n",
    "observed = np.array([[235, 9485], [784, 209073]])\n",
    "observed"
   ]
  },
  {
   "cell_type": "code",
   "execution_count": null,
   "id": "f573b208",
   "metadata": {},
   "outputs": [],
   "source": [
    "# Calculated the statistic by hand first to compare to function from scipy.stats\n",
    "## Without Yates correction value is 840.26 (Yates correction makes the value for conservative)\n",
    "\n",
    "(((235-45.11)**2)/45.11 + ((9485-9674.89)**2)/9674.89 + ((784-973.89)**2)/973.89 + ((209073-208883.11)**2)/208883.11)"
   ]
  },
  {
   "cell_type": "code",
   "execution_count": null,
   "id": "9a3fd418",
   "metadata": {},
   "outputs": [],
   "source": [
    "# Import the chi2_contingency function to use for our test\n",
    "from scipy.stats import chi2_contingency "
   ]
  },
  {
   "cell_type": "markdown",
   "id": "35db608a",
   "metadata": {},
   "source": [
    "We run the Chi-square test of independence to see if there is a statistically significant relationship between offense and bias."
   ]
  },
  {
   "cell_type": "code",
   "execution_count": null,
   "id": "a9d8e965",
   "metadata": {},
   "outputs": [],
   "source": [
    "# Run a Chi-square test of independence \n",
    "\n",
    "# Obtain the value of the Chi statistic (chi_val)\n",
    "# Obtain p-value (p_val); check that value is less than 0.05 for significance \n",
    "# Obtain degrees of freedom (dof); should be 1, since we are using 2X2 values in our \"observed\" array\n",
    "# Obtain 'expected', which are the values we would expected to see; these are the values we are comparing to.\n",
    "\n",
    "# Here is the actual test (arguments are explained above)\n",
    "chi_val, p_val, dof, expected =  chi2_contingency(observed, correction=True) \n",
    "            # \"observed\" means we are testing the data in the array called 'observed'\n",
    "            # Correction = True, to use the Yates correction. \n",
    "\n",
    "# Keeping correction for Yates' continuity so that estimates are more conservative\n",
    "chi_val, p_val, dof, expected"
   ]
  },
  {
   "cell_type": "markdown",
   "id": "e56f9671",
   "metadata": {},
   "source": [
    "**Chi Square Test Results and Interpretation**\n",
    "\n",
    "The test above shows a Chi-square statistic of approximately 835.90, with 1 degree of freedom, and a p-value much less than 0.05. This suggests that there *is* a statistically significant relationship between offense number and bias number. We fail to reject the null hypothesis that offense number and bias number are independent of each other.\n",
    "\n",
    "Please note, this test does not tell us anything about the specific nature of the relationship - only that one exists. To analyze the actual relationship, we would need to run further tests to determine strength and/or association of the relationship between offenses and biases. These additional tests are outside the scope of this exploratory analysis, but should be considered for future research."
   ]
  },
  {
   "cell_type": "markdown",
   "id": "c8cf7de5",
   "metadata": {},
   "source": [
    "### 4) What is the average number of victims for one hate crime? Is it common for a hate crime to involve multiple victims?"
   ]
  },
  {
   "cell_type": "markdown",
   "id": "3765a6d8",
   "metadata": {},
   "source": [
    "**Basic Summary Statistics**\n",
    "\n",
    "First, we describe the 'total_individual_victims' column in our data set to get basic summary statistics. \n",
    "\n",
    "From this, we determine that the average number of victims for one hate crime is 1 victim (**mean=0.98**) with a standard deviation of 1.17. There is a maximum count of 147, indicating that some of the hate crimes definitely involve multiple victims."
   ]
  },
  {
   "cell_type": "code",
   "execution_count": null,
   "id": "42abe9c6",
   "metadata": {},
   "outputs": [],
   "source": [
    "# Describe the total individual victims variable in the full data set\n",
    "hate_crime_df['TOTAL_INDIVIDUAL_VICTIMS'].describe()\n",
    "\n",
    "# The average total victims for hate crimes is 0.99 with a standard deviation of 1.17.\n",
    "# The max number of victims is 147. This prompts a follow-up question of 'how many incidents involve more than 1 victim'?"
   ]
  },
  {
   "cell_type": "markdown",
   "id": "0a4c1b5d",
   "metadata": {},
   "source": [
    "**Box Plot of Total Number of Victims**\n",
    "\n",
    "To better visualize the distribution and spread of the data, a box plot was constructed. \n",
    "\n",
    "This box plot is overwhelmed by outliers in our data. This visual suggests that the number of victims in our sample is a very wide range, yet the vast majority of incidents do not involve many victims. As indicated by this plot, the median, 25th, and 75th percentile are all 1."
   ]
  },
  {
   "cell_type": "code",
   "execution_count": null,
   "id": "6984c2e0",
   "metadata": {},
   "outputs": [],
   "source": [
    "# Look at distribution with box plot\n",
    "g = sns.boxplot(x=hate_crime_df['TOTAL_INDIVIDUAL_VICTIMS'])\n",
    "g.set_title('Distribution of Total Number of Victims per Hate Crime in the U.S.', size=12, weight='bold')\n",
    "g.set_xlabel('Total Individual Victims')\n",
    "\n",
    "# Save figure and then display\n",
    "plt.savefig('fullboxplot.png', format='png', dpi=150, bbox_inches='tight')\n",
    "plt.show()"
   ]
  },
  {
   "cell_type": "markdown",
   "id": "905d69eb",
   "metadata": {},
   "source": [
    "**Box Plots of Total Victims by Region**\n",
    "\n",
    "We can also view the box plots by region to see if these outliers exist in every region of the U.S., or if they are concentrated in one or two regions."
   ]
  },
  {
   "cell_type": "code",
   "execution_count": null,
   "id": "7c8d29c1",
   "metadata": {},
   "outputs": [],
   "source": [
    "# See if the distribution changes at all when looking by region\n",
    "g2 = sns.boxplot(y=hate_crime_df[\"REGION_NAME\"], \n",
    "            x=hate_crime_df[\"TOTAL_INDIVIDUAL_VICTIMS\"],\n",
    "           palette=\"Blues\")\n",
    "\n",
    "g2.set_title('Distribution of Total Number of Victims per Hate Crime, by Region in the U.S.', size=12, weight='bold')\n",
    "g2.set_xlabel('Total Individual Victims')\n",
    "g2.set_ylabel('')\n",
    "\n",
    "# Save figure and then display\n",
    "plt.savefig('Regionboxplot.png', format='png', dpi=150, bbox_inches='tight')\n",
    "plt.show()"
   ]
  },
  {
   "cell_type": "markdown",
   "id": "2fa979ad",
   "metadata": {},
   "source": [
    "The box plot above displays that the extreme outliers are observed in every region in our sample. We can slice the data to be victim counts of less than 20 to have a better visualize the box plots.\n",
    "\n",
    "\n",
    "The filtered box plots below suggest that the Northeast (on average) has fewer total victims per hate crime, when compared to other regions. The U.S territories appear to have the most total victims per hate crime (on average). However, the U.S. territories do not contain any of the outliers. The regions \"other\" and \"west\" had a hate crime with the highest total number of victims"
   ]
  },
  {
   "cell_type": "code",
   "execution_count": null,
   "id": "dd913b2e",
   "metadata": {},
   "outputs": [],
   "source": [
    "# See if the distribution changes at all when looking by region\n",
    "fig, ax = plt.subplots()\n",
    "\n",
    "sns.boxplot(y=victim20[\"REGION_NAME\"], \n",
    "            x=victim20[\"TOTAL_INDIVIDUAL_VICTIMS\"],\n",
    "           palette=\"Blues\")\n",
    "\n",
    "ax.set_title('Distribution of Total Number of Hate Crime Victims by Region in the U.S.', size=12, weight='bold')\n",
    "ax.set_xlabel('Total Individual Victims')\n",
    "ax.set_ylabel('')\n",
    "\n",
    "# Save figure and then display\n",
    "plt.savefig('Regionboxplot20.png', format='png', dpi=150, bbox_inches='tight')\n",
    "plt.show()"
   ]
  },
  {
   "cell_type": "markdown",
   "id": "3325b428",
   "metadata": {},
   "source": [
    "We know from these box plots that there are definite outliers in our sample. But how many? Lets sort our data frame by the total individual victims per hate crime to get an overall sense of incidents that involve mutliple victims. "
   ]
  },
  {
   "cell_type": "code",
   "execution_count": null,
   "id": "1495e057",
   "metadata": {},
   "outputs": [],
   "source": [
    "# Sort by hate crime ascending to see higher victim counts\n",
    "hate_crime_df.sort_values('TOTAL_INDIVIDUAL_VICTIMS', ascending=False).head()\n",
    "\n",
    "# This initial scan displays that some hate crimes involve hundreds of victims. But how common is that?"
   ]
  },
  {
   "cell_type": "markdown",
   "id": "790d722f",
   "metadata": {},
   "source": [
    "**Exploring where total individual victims is greater than 1**\n",
    "\n",
    "To explore this even further, the data were filtered by victim counts above 1. How does this change our distribution, if at all?"
   ]
  },
  {
   "cell_type": "code",
   "execution_count": null,
   "id": "37e555aa",
   "metadata": {},
   "outputs": [],
   "source": [
    "# Check to see when a victim count is great than 1\n",
    "victim_count =  hate_crime_df['TOTAL_INDIVIDUAL_VICTIMS']>1\n",
    "victim_count.head()"
   ]
  },
  {
   "cell_type": "code",
   "execution_count": null,
   "id": "63847b27",
   "metadata": {},
   "outputs": [],
   "source": [
    "victim_count1 =  hate_crime_df['TOTAL_INDIVIDUAL_VICTIMS']==1\n",
    "multiple_victim1 = hate_crime_df[victim_count1]\n",
    "len(multiple_victim1.index)"
   ]
  },
  {
   "cell_type": "code",
   "execution_count": null,
   "id": "da8fb791",
   "metadata": {},
   "outputs": [],
   "source": [
    "# Look at the data frame slice from above for victim counts greater than 1.\n",
    "multiple_victim = hate_crime_df[victim_count]\n",
    "multiple_victim.head()"
   ]
  },
  {
   "cell_type": "markdown",
   "id": "a672e83f",
   "metadata": {},
   "source": [
    "After filtering the data for more than one victim, we now have a mean of 2.6 and a standard deviation of 2.65. This means the filtered data set actually has more spread than the original data set. Because the mean is larger than the median of 2, we also know what our distribution is slightly positively skewed. Because the 75% percentile is 3, we know that the higher victim counts are outliers. "
   ]
  },
  {
   "cell_type": "code",
   "execution_count": null,
   "id": "ddf91341",
   "metadata": {},
   "outputs": [],
   "source": [
    "# Describe the TOTAL_INDIVIDUAL_VICTIMS variable when greater than 1\n",
    "multiple_victim['TOTAL_INDIVIDUAL_VICTIMS'].describe() # Now we have a mean of 2.60 and standard deviation of 2.65. \n",
    "# The spread around the mean is slightly higher when filtering for victim counts above 1."
   ]
  },
  {
   "cell_type": "markdown",
   "id": "c3d291a1",
   "metadata": {},
   "source": [
    "The extreme outliers make this visual difficult to interpret, but one can still see the right, positive skew in our sample distribution of multiple victims. This indicates that the vast majority of hate crimes involve 2-3 victims, but some incidents involve hundreds of victims."
   ]
  },
  {
   "cell_type": "code",
   "execution_count": null,
   "id": "8e3baa3a",
   "metadata": {},
   "outputs": [],
   "source": [
    "# quick initial scan of the new distribution \n",
    "multiple_victim['TOTAL_INDIVIDUAL_VICTIMS'].hist(bins=200)"
   ]
  },
  {
   "cell_type": "markdown",
   "id": "3472a435",
   "metadata": {},
   "source": [
    "If we categorize and group the data into 'bins' of victim counts, we might better be able to understand how common these 'extreme' cases are, where hundreds of victims are involved."
   ]
  },
  {
   "cell_type": "code",
   "execution_count": null,
   "id": "48b8989a",
   "metadata": {},
   "outputs": [],
   "source": [
    "# Turn the slice of data into an actual data frame to work with\n",
    "multiple_victim_df = pd.DataFrame(multiple_victim)\n",
    "multiple_victim_df.head()"
   ]
  },
  {
   "cell_type": "code",
   "execution_count": null,
   "id": "875589eb",
   "metadata": {},
   "outputs": [],
   "source": [
    "# Check to see how common other victim counts are\n",
    "# Group by TOTAL_INDIVIDUAL_VICTIMS to see\n",
    "grouped_victim_df = multiple_victim_df.groupby('TOTAL_INDIVIDUAL_VICTIMS').count() \n",
    "grouped_victim_df"
   ]
  },
  {
   "cell_type": "code",
   "execution_count": null,
   "id": "4f08f16c",
   "metadata": {},
   "outputs": [],
   "source": [
    "# Establish bins and bin labels for victim counts\n",
    "victim_bins = [1, 10, 29, 147]\n",
    "victim_labels = ['2-10', '11-29', '30+']\n",
    "\n",
    "# Create a new variable in the 'multiple_victim' data frame that categorizes the victim counts\n",
    "multiple_victim_df['Number_of_Victims'] = pd.cut(multiple_victim_df[\"TOTAL_INDIVIDUAL_VICTIMS\"], \n",
    "                                                    victim_bins, labels=victim_labels)\n",
    "\n",
    "# Check that data frame has new column\n",
    "multiple_victim_df"
   ]
  },
  {
   "cell_type": "code",
   "execution_count": null,
   "id": "a7130fae",
   "metadata": {},
   "outputs": [],
   "source": [
    "# Group by the new 'Number_of_Victims' variable that we just created\n",
    "victim_group = multiple_victim_df.groupby('Number_of_Victims')\n",
    "\n",
    "# Get the total incidents per bin in order to compare\n",
    "victim_counts = victim_group.agg({\"Number_of_Victims\": 'count'})\n",
    "victim_counts"
   ]
  },
  {
   "cell_type": "markdown",
   "id": "36823ca4",
   "metadata": {},
   "source": [
    "The table above displays that the vast majority of hate crimes involving multiple victims involve 2-10 victims. Hate crimes involving 11-29 victims are rare, but are slightly more common than hate crimes involving 30 or more victims. "
   ]
  },
  {
   "cell_type": "markdown",
   "id": "20f1ba26",
   "metadata": {},
   "source": [
    "**Compare how common it is for a hate crime to involve single victims, as opposed to multiple** "
   ]
  },
  {
   "cell_type": "code",
   "execution_count": null,
   "id": "cff279e0",
   "metadata": {},
   "outputs": [],
   "source": [
    "# Finally, compare single victims to multiple\n",
    "    # 219577 = total number of hate crimtes with only one victim\n",
    "    # 26343 = total number of hate crimes with 2+ victims\n",
    "    # 245920 = total number of individual hate crimes in data set\n",
    "prop1 = 219577/245920\n",
    "prop2 = 26343/245920\n",
    "victim_compare = np.array([prop1,prop2])"
   ]
  },
  {
   "cell_type": "code",
   "execution_count": null,
   "id": "4b2122f9",
   "metadata": {},
   "outputs": [],
   "source": [
    "# Compare using a treemap\n",
    "labels=['One Victim (89%)','Multiple Victims (11%)']\n",
    "\n",
    "# Import squarify for tree map\n",
    "import squarify"
   ]
  },
  {
   "cell_type": "markdown",
   "id": "d49b25bd",
   "metadata": {},
   "source": [
    "The tree map below better visualized how much more common it is for a hate crime to involve only one victim, as opposed to multiple."
   ]
  },
  {
   "cell_type": "code",
   "execution_count": null,
   "id": "e962b7f7",
   "metadata": {},
   "outputs": [],
   "source": [
    "# Set up tree map; use array we created above for the data\n",
    "fig, ax = plt.subplots(1, figsize = (6,6))\n",
    "squarify.plot(sizes=victim_compare, \n",
    "              label=labels, \n",
    "              alpha=.5 )\n",
    "plt.axis('off') # remove axis\n",
    "\n",
    "# Add title\n",
    "ax.set_title('Most Reported Hate Crimes Involve One Victim', size=12, weight='bold')\n",
    "plt.show()\n",
    "\n",
    "# Save plot\n",
    "fig.savefig('treemap.png', dpi=150, bbox_inches=\"tight\")"
   ]
  }
 ],
 "metadata": {
  "kernelspec": {
   "display_name": "Python 3 (ipykernel)",
   "language": "python",
   "name": "python3"
  },
  "language_info": {
   "codemirror_mode": {
    "name": "ipython",
    "version": 3
   },
   "file_extension": ".py",
   "mimetype": "text/x-python",
   "name": "python",
   "nbconvert_exporter": "python",
   "pygments_lexer": "ipython3",
   "version": "3.8.10"
  }
 },
 "nbformat": 4,
 "nbformat_minor": 5
}
