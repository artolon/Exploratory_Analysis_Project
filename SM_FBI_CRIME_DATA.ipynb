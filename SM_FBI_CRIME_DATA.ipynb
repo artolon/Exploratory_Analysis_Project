{
 "cells": [
  {
   "cell_type": "code",
   "execution_count": 1,
   "id": "957b437e",
   "metadata": {},
   "outputs": [],
   "source": [
    "import requests\n",
    "import pandas as pd\n",
    "import numpy as np\n",
    "import matplotlib.pyplot as plt\n",
    "from scipy import stats"
   ]
  },
  {
   "cell_type": "code",
   "execution_count": 2,
   "id": "e31b0730",
   "metadata": {},
   "outputs": [],
   "source": [
    "hate_crime_df = pd.read_csv(\"hate_crime.csv\", low_memory=False)"
   ]
  },
  {
   "cell_type": "code",
   "execution_count": 3,
   "id": "130e9d43",
   "metadata": {
    "scrolled": true
   },
   "outputs": [
    {
     "data": {
      "text/plain": [
       "Index(['INCIDENT_ID', 'DATA_YEAR', 'ORI', 'PUB_AGENCY_NAME', 'PUB_AGENCY_UNIT',\n",
       "       'AGENCY_TYPE_NAME', 'STATE_ABBR', 'STATE_NAME', 'DIVISION_NAME',\n",
       "       'REGION_NAME', 'POPULATION_GROUP_CODE', 'POPULATION_GROUP_DESC',\n",
       "       'INCIDENT_DATE', 'ADULT_VICTIM_COUNT', 'JUVENILE_VICTIM_COUNT',\n",
       "       'TOTAL_OFFENDER_COUNT', 'ADULT_OFFENDER_COUNT',\n",
       "       'JUVENILE_OFFENDER_COUNT', 'OFFENDER_RACE', 'OFFENDER_ETHNICITY',\n",
       "       'VICTIM_COUNT', 'OFFENSE_NAME', 'TOTAL_INDIVIDUAL_VICTIMS',\n",
       "       'LOCATION_NAME', 'BIAS_DESC', 'VICTIM_TYPES', 'MULTIPLE_OFFENSE',\n",
       "       'MULTIPLE_BIAS'],\n",
       "      dtype='object')"
      ]
     },
     "execution_count": 3,
     "metadata": {},
     "output_type": "execute_result"
    }
   ],
   "source": [
    "hate_crime_df.columns"
   ]
  },
  {
   "cell_type": "code",
   "execution_count": 4,
   "id": "d35c8982",
   "metadata": {},
   "outputs": [
    {
     "data": {
      "text/html": [
       "<div>\n",
       "<style scoped>\n",
       "    .dataframe tbody tr th:only-of-type {\n",
       "        vertical-align: middle;\n",
       "    }\n",
       "\n",
       "    .dataframe tbody tr th {\n",
       "        vertical-align: top;\n",
       "    }\n",
       "\n",
       "    .dataframe thead th {\n",
       "        text-align: right;\n",
       "    }\n",
       "</style>\n",
       "<table border=\"1\" class=\"dataframe\">\n",
       "  <thead>\n",
       "    <tr style=\"text-align: right;\">\n",
       "      <th></th>\n",
       "      <th>INCIDENT_ID</th>\n",
       "      <th>DATA_YEAR</th>\n",
       "      <th>ORI</th>\n",
       "      <th>PUB_AGENCY_NAME</th>\n",
       "      <th>PUB_AGENCY_UNIT</th>\n",
       "      <th>AGENCY_TYPE_NAME</th>\n",
       "      <th>STATE_ABBR</th>\n",
       "      <th>STATE_NAME</th>\n",
       "      <th>DIVISION_NAME</th>\n",
       "      <th>REGION_NAME</th>\n",
       "      <th>...</th>\n",
       "      <th>OFFENDER_RACE</th>\n",
       "      <th>OFFENDER_ETHNICITY</th>\n",
       "      <th>VICTIM_COUNT</th>\n",
       "      <th>OFFENSE_NAME</th>\n",
       "      <th>TOTAL_INDIVIDUAL_VICTIMS</th>\n",
       "      <th>LOCATION_NAME</th>\n",
       "      <th>BIAS_DESC</th>\n",
       "      <th>VICTIM_TYPES</th>\n",
       "      <th>MULTIPLE_OFFENSE</th>\n",
       "      <th>MULTIPLE_BIAS</th>\n",
       "    </tr>\n",
       "  </thead>\n",
       "  <tbody>\n",
       "    <tr>\n",
       "      <th>0</th>\n",
       "      <td>3015</td>\n",
       "      <td>1991</td>\n",
       "      <td>AR0040200</td>\n",
       "      <td>Rogers</td>\n",
       "      <td>NaN</td>\n",
       "      <td>City</td>\n",
       "      <td>AR</td>\n",
       "      <td>Arkansas</td>\n",
       "      <td>West South Central</td>\n",
       "      <td>South</td>\n",
       "      <td>...</td>\n",
       "      <td>White</td>\n",
       "      <td>NaN</td>\n",
       "      <td>1</td>\n",
       "      <td>Intimidation</td>\n",
       "      <td>1.0</td>\n",
       "      <td>Highway/Road/Alley/Street/Sidewalk</td>\n",
       "      <td>Anti-Black or African American</td>\n",
       "      <td>Individual</td>\n",
       "      <td>S</td>\n",
       "      <td>S</td>\n",
       "    </tr>\n",
       "    <tr>\n",
       "      <th>1</th>\n",
       "      <td>3016</td>\n",
       "      <td>1991</td>\n",
       "      <td>AR0290100</td>\n",
       "      <td>Hope</td>\n",
       "      <td>NaN</td>\n",
       "      <td>City</td>\n",
       "      <td>AR</td>\n",
       "      <td>Arkansas</td>\n",
       "      <td>West South Central</td>\n",
       "      <td>South</td>\n",
       "      <td>...</td>\n",
       "      <td>Black or African American</td>\n",
       "      <td>NaN</td>\n",
       "      <td>1</td>\n",
       "      <td>Simple Assault</td>\n",
       "      <td>1.0</td>\n",
       "      <td>Highway/Road/Alley/Street/Sidewalk</td>\n",
       "      <td>Anti-White</td>\n",
       "      <td>Individual</td>\n",
       "      <td>S</td>\n",
       "      <td>S</td>\n",
       "    </tr>\n",
       "    <tr>\n",
       "      <th>2</th>\n",
       "      <td>43</td>\n",
       "      <td>1991</td>\n",
       "      <td>AR0350100</td>\n",
       "      <td>Pine Bluff</td>\n",
       "      <td>NaN</td>\n",
       "      <td>City</td>\n",
       "      <td>AR</td>\n",
       "      <td>Arkansas</td>\n",
       "      <td>West South Central</td>\n",
       "      <td>South</td>\n",
       "      <td>...</td>\n",
       "      <td>Black or African American</td>\n",
       "      <td>NaN</td>\n",
       "      <td>1</td>\n",
       "      <td>Aggravated Assault</td>\n",
       "      <td>1.0</td>\n",
       "      <td>Residence/Home</td>\n",
       "      <td>Anti-Black or African American</td>\n",
       "      <td>Individual</td>\n",
       "      <td>S</td>\n",
       "      <td>S</td>\n",
       "    </tr>\n",
       "    <tr>\n",
       "      <th>3</th>\n",
       "      <td>44</td>\n",
       "      <td>1991</td>\n",
       "      <td>AR0350100</td>\n",
       "      <td>Pine Bluff</td>\n",
       "      <td>NaN</td>\n",
       "      <td>City</td>\n",
       "      <td>AR</td>\n",
       "      <td>Arkansas</td>\n",
       "      <td>West South Central</td>\n",
       "      <td>South</td>\n",
       "      <td>...</td>\n",
       "      <td>Black or African American</td>\n",
       "      <td>NaN</td>\n",
       "      <td>2</td>\n",
       "      <td>Aggravated Assault;Destruction/Damage/Vandalis...</td>\n",
       "      <td>1.0</td>\n",
       "      <td>Highway/Road/Alley/Street/Sidewalk</td>\n",
       "      <td>Anti-White</td>\n",
       "      <td>Individual</td>\n",
       "      <td>M</td>\n",
       "      <td>S</td>\n",
       "    </tr>\n",
       "    <tr>\n",
       "      <th>4</th>\n",
       "      <td>3017</td>\n",
       "      <td>1991</td>\n",
       "      <td>AR0350100</td>\n",
       "      <td>Pine Bluff</td>\n",
       "      <td>NaN</td>\n",
       "      <td>City</td>\n",
       "      <td>AR</td>\n",
       "      <td>Arkansas</td>\n",
       "      <td>West South Central</td>\n",
       "      <td>South</td>\n",
       "      <td>...</td>\n",
       "      <td>Black or African American</td>\n",
       "      <td>NaN</td>\n",
       "      <td>1</td>\n",
       "      <td>Aggravated Assault</td>\n",
       "      <td>1.0</td>\n",
       "      <td>Service/Gas Station</td>\n",
       "      <td>Anti-White</td>\n",
       "      <td>Individual</td>\n",
       "      <td>S</td>\n",
       "      <td>S</td>\n",
       "    </tr>\n",
       "  </tbody>\n",
       "</table>\n",
       "<p>5 rows × 28 columns</p>\n",
       "</div>"
      ],
      "text/plain": [
       "   INCIDENT_ID  DATA_YEAR        ORI PUB_AGENCY_NAME PUB_AGENCY_UNIT  \\\n",
       "0         3015       1991  AR0040200          Rogers             NaN   \n",
       "1         3016       1991  AR0290100            Hope             NaN   \n",
       "2           43       1991  AR0350100      Pine Bluff             NaN   \n",
       "3           44       1991  AR0350100      Pine Bluff             NaN   \n",
       "4         3017       1991  AR0350100      Pine Bluff             NaN   \n",
       "\n",
       "  AGENCY_TYPE_NAME STATE_ABBR STATE_NAME       DIVISION_NAME REGION_NAME  ...  \\\n",
       "0             City         AR   Arkansas  West South Central       South  ...   \n",
       "1             City         AR   Arkansas  West South Central       South  ...   \n",
       "2             City         AR   Arkansas  West South Central       South  ...   \n",
       "3             City         AR   Arkansas  West South Central       South  ...   \n",
       "4             City         AR   Arkansas  West South Central       South  ...   \n",
       "\n",
       "               OFFENDER_RACE OFFENDER_ETHNICITY VICTIM_COUNT  \\\n",
       "0                      White                NaN            1   \n",
       "1  Black or African American                NaN            1   \n",
       "2  Black or African American                NaN            1   \n",
       "3  Black or African American                NaN            2   \n",
       "4  Black or African American                NaN            1   \n",
       "\n",
       "                                        OFFENSE_NAME  \\\n",
       "0                                       Intimidation   \n",
       "1                                     Simple Assault   \n",
       "2                                 Aggravated Assault   \n",
       "3  Aggravated Assault;Destruction/Damage/Vandalis...   \n",
       "4                                 Aggravated Assault   \n",
       "\n",
       "   TOTAL_INDIVIDUAL_VICTIMS                       LOCATION_NAME  \\\n",
       "0                       1.0  Highway/Road/Alley/Street/Sidewalk   \n",
       "1                       1.0  Highway/Road/Alley/Street/Sidewalk   \n",
       "2                       1.0                      Residence/Home   \n",
       "3                       1.0  Highway/Road/Alley/Street/Sidewalk   \n",
       "4                       1.0                 Service/Gas Station   \n",
       "\n",
       "                        BIAS_DESC  VICTIM_TYPES MULTIPLE_OFFENSE MULTIPLE_BIAS  \n",
       "0  Anti-Black or African American    Individual                S             S  \n",
       "1                      Anti-White    Individual                S             S  \n",
       "2  Anti-Black or African American    Individual                S             S  \n",
       "3                      Anti-White    Individual                M             S  \n",
       "4                      Anti-White    Individual                S             S  \n",
       "\n",
       "[5 rows x 28 columns]"
      ]
     },
     "execution_count": 4,
     "metadata": {},
     "output_type": "execute_result"
    }
   ],
   "source": [
    "hate_crime_df.head()"
   ]
  },
  {
   "cell_type": "markdown",
   "id": "fad41981",
   "metadata": {},
   "source": [
    "### 1) What have been the overall trends of hate crime frequency over the years?"
   ]
  },
  {
   "cell_type": "markdown",
   "id": "e9efdec0",
   "metadata": {},
   "source": [
    "### Incidents per year for last 30 years"
   ]
  },
  {
   "cell_type": "code",
   "execution_count": 5,
   "id": "145b08e4",
   "metadata": {},
   "outputs": [],
   "source": [
    "hate_crime_df_by_year = hate_crime_df[\"DATA_YEAR\"].value_counts().sort_index()"
   ]
  },
  {
   "cell_type": "code",
   "execution_count": 6,
   "id": "50d9055b",
   "metadata": {
    "scrolled": true
   },
   "outputs": [
    {
     "data": {
      "image/png": "[encoded data removed]",
      "text/plain": [
       "<Figure size 1080x360 with 1 Axes>"
      ]
     },
     "metadata": {
      "needs_background": "light"
     },
     "output_type": "display_data"
    }
   ],
   "source": [
    "fig1, ax1 = plt.subplots()\n",
    "fig1 = hate_crime_df_by_year.plot.bar(color='dodgerblue', figsize=(15,5))\n",
    "\n",
    "ax1.set_xlabel(\"Year\")\n",
    "ax1.set_ylabel(\"No. of incidents\")\n",
    "ax1.set_title(\"Hate Crime Incidents in the last 30 years\")\n",
    "\n",
    "ym = hate_crime_df_by_year.mean()\n",
    "ax1.axhline(ym, color='green', linewidth=2, linestyle = '--')\n",
    "ax1.annotate('Mean: {:0.2f}'.format(ym), xy=(0, ym), xytext=(1,ym+1000),arrowprops=dict(arrowstyle='-|>', fc='black', shrinkA=0, shrinkB=0,\n",
    "                            connectionstyle='angle,angleA=0,angleB=90,rad=10'))\n",
    "\n",
    "plt.show()"
   ]
  },
  {
   "cell_type": "markdown",
   "id": "a9dd826a",
   "metadata": {},
   "source": [
    "#### Observations:\n",
    "    1. Mid 90s onwards we see an increase in hate crimes which peaked in the year 2001\n",
    "    2. \n",
    "    "
   ]
  },
  {
   "cell_type": "markdown",
   "id": "f78e1f43",
   "metadata": {},
   "source": [
    "### Incidents per Decade "
   ]
  },
  {
   "cell_type": "code",
   "execution_count": 7,
   "id": "6bc50d37",
   "metadata": {},
   "outputs": [],
   "source": [
    "# Creating bins and label to add a coulmn for Decade \n",
    "\n",
    "decade_bins = [1990,2000,2010,2020]\n",
    "decade_labels = [\"2000\",\"2010\",\"2020\"]"
   ]
  },
  {
   "cell_type": "code",
   "execution_count": 8,
   "id": "bc73adf0",
   "metadata": {},
   "outputs": [
    {
     "data": {
      "text/html": [
       "<div>\n",
       "<style scoped>\n",
       "    .dataframe tbody tr th:only-of-type {\n",
       "        vertical-align: middle;\n",
       "    }\n",
       "\n",
       "    .dataframe tbody tr th {\n",
       "        vertical-align: top;\n",
       "    }\n",
       "\n",
       "    .dataframe thead th {\n",
       "        text-align: right;\n",
       "    }\n",
       "</style>\n",
       "<table border=\"1\" class=\"dataframe\">\n",
       "  <thead>\n",
       "    <tr style=\"text-align: right;\">\n",
       "      <th></th>\n",
       "      <th>INCIDENT_ID</th>\n",
       "      <th>DATA_YEAR</th>\n",
       "      <th>ORI</th>\n",
       "      <th>PUB_AGENCY_NAME</th>\n",
       "      <th>PUB_AGENCY_UNIT</th>\n",
       "      <th>AGENCY_TYPE_NAME</th>\n",
       "      <th>STATE_ABBR</th>\n",
       "      <th>STATE_NAME</th>\n",
       "      <th>DIVISION_NAME</th>\n",
       "      <th>REGION_NAME</th>\n",
       "      <th>...</th>\n",
       "      <th>OFFENDER_ETHNICITY</th>\n",
       "      <th>VICTIM_COUNT</th>\n",
       "      <th>OFFENSE_NAME</th>\n",
       "      <th>TOTAL_INDIVIDUAL_VICTIMS</th>\n",
       "      <th>LOCATION_NAME</th>\n",
       "      <th>BIAS_DESC</th>\n",
       "      <th>VICTIM_TYPES</th>\n",
       "      <th>MULTIPLE_OFFENSE</th>\n",
       "      <th>MULTIPLE_BIAS</th>\n",
       "      <th>decade_ending</th>\n",
       "    </tr>\n",
       "  </thead>\n",
       "  <tbody>\n",
       "    <tr>\n",
       "      <th>0</th>\n",
       "      <td>3015</td>\n",
       "      <td>1991</td>\n",
       "      <td>AR0040200</td>\n",
       "      <td>Rogers</td>\n",
       "      <td>NaN</td>\n",
       "      <td>City</td>\n",
       "      <td>AR</td>\n",
       "      <td>Arkansas</td>\n",
       "      <td>West South Central</td>\n",
       "      <td>South</td>\n",
       "      <td>...</td>\n",
       "      <td>NaN</td>\n",
       "      <td>1</td>\n",
       "      <td>Intimidation</td>\n",
       "      <td>1.0</td>\n",
       "      <td>Highway/Road/Alley/Street/Sidewalk</td>\n",
       "      <td>Anti-Black or African American</td>\n",
       "      <td>Individual</td>\n",
       "      <td>S</td>\n",
       "      <td>S</td>\n",
       "      <td>2000</td>\n",
       "    </tr>\n",
       "    <tr>\n",
       "      <th>1</th>\n",
       "      <td>3016</td>\n",
       "      <td>1991</td>\n",
       "      <td>AR0290100</td>\n",
       "      <td>Hope</td>\n",
       "      <td>NaN</td>\n",
       "      <td>City</td>\n",
       "      <td>AR</td>\n",
       "      <td>Arkansas</td>\n",
       "      <td>West South Central</td>\n",
       "      <td>South</td>\n",
       "      <td>...</td>\n",
       "      <td>NaN</td>\n",
       "      <td>1</td>\n",
       "      <td>Simple Assault</td>\n",
       "      <td>1.0</td>\n",
       "      <td>Highway/Road/Alley/Street/Sidewalk</td>\n",
       "      <td>Anti-White</td>\n",
       "      <td>Individual</td>\n",
       "      <td>S</td>\n",
       "      <td>S</td>\n",
       "      <td>2000</td>\n",
       "    </tr>\n",
       "    <tr>\n",
       "      <th>2</th>\n",
       "      <td>43</td>\n",
       "      <td>1991</td>\n",
       "      <td>AR0350100</td>\n",
       "      <td>Pine Bluff</td>\n",
       "      <td>NaN</td>\n",
       "      <td>City</td>\n",
       "      <td>AR</td>\n",
       "      <td>Arkansas</td>\n",
       "      <td>West South Central</td>\n",
       "      <td>South</td>\n",
       "      <td>...</td>\n",
       "      <td>NaN</td>\n",
       "      <td>1</td>\n",
       "      <td>Aggravated Assault</td>\n",
       "      <td>1.0</td>\n",
       "      <td>Residence/Home</td>\n",
       "      <td>Anti-Black or African American</td>\n",
       "      <td>Individual</td>\n",
       "      <td>S</td>\n",
       "      <td>S</td>\n",
       "      <td>2000</td>\n",
       "    </tr>\n",
       "    <tr>\n",
       "      <th>3</th>\n",
       "      <td>44</td>\n",
       "      <td>1991</td>\n",
       "      <td>AR0350100</td>\n",
       "      <td>Pine Bluff</td>\n",
       "      <td>NaN</td>\n",
       "      <td>City</td>\n",
       "      <td>AR</td>\n",
       "      <td>Arkansas</td>\n",
       "      <td>West South Central</td>\n",
       "      <td>South</td>\n",
       "      <td>...</td>\n",
       "      <td>NaN</td>\n",
       "      <td>2</td>\n",
       "      <td>Aggravated Assault;Destruction/Damage/Vandalis...</td>\n",
       "      <td>1.0</td>\n",
       "      <td>Highway/Road/Alley/Street/Sidewalk</td>\n",
       "      <td>Anti-White</td>\n",
       "      <td>Individual</td>\n",
       "      <td>M</td>\n",
       "      <td>S</td>\n",
       "      <td>2000</td>\n",
       "    </tr>\n",
       "    <tr>\n",
       "      <th>4</th>\n",
       "      <td>3017</td>\n",
       "      <td>1991</td>\n",
       "      <td>AR0350100</td>\n",
       "      <td>Pine Bluff</td>\n",
       "      <td>NaN</td>\n",
       "      <td>City</td>\n",
       "      <td>AR</td>\n",
       "      <td>Arkansas</td>\n",
       "      <td>West South Central</td>\n",
       "      <td>South</td>\n",
       "      <td>...</td>\n",
       "      <td>NaN</td>\n",
       "      <td>1</td>\n",
       "      <td>Aggravated Assault</td>\n",
       "      <td>1.0</td>\n",
       "      <td>Service/Gas Station</td>\n",
       "      <td>Anti-White</td>\n",
       "      <td>Individual</td>\n",
       "      <td>S</td>\n",
       "      <td>S</td>\n",
       "      <td>2000</td>\n",
       "    </tr>\n",
       "  </tbody>\n",
       "</table>\n",
       "<p>5 rows × 29 columns</p>\n",
       "</div>"
      ],
      "text/plain": [
       "   INCIDENT_ID  DATA_YEAR        ORI PUB_AGENCY_NAME PUB_AGENCY_UNIT  \\\n",
       "0         3015       1991  AR0040200          Rogers             NaN   \n",
       "1         3016       1991  AR0290100            Hope             NaN   \n",
       "2           43       1991  AR0350100      Pine Bluff             NaN   \n",
       "3           44       1991  AR0350100      Pine Bluff             NaN   \n",
       "4         3017       1991  AR0350100      Pine Bluff             NaN   \n",
       "\n",
       "  AGENCY_TYPE_NAME STATE_ABBR STATE_NAME       DIVISION_NAME REGION_NAME  ...  \\\n",
       "0             City         AR   Arkansas  West South Central       South  ...   \n",
       "1             City         AR   Arkansas  West South Central       South  ...   \n",
       "2             City         AR   Arkansas  West South Central       South  ...   \n",
       "3             City         AR   Arkansas  West South Central       South  ...   \n",
       "4             City         AR   Arkansas  West South Central       South  ...   \n",
       "\n",
       "  OFFENDER_ETHNICITY VICTIM_COUNT  \\\n",
       "0                NaN            1   \n",
       "1                NaN            1   \n",
       "2                NaN            1   \n",
       "3                NaN            2   \n",
       "4                NaN            1   \n",
       "\n",
       "                                        OFFENSE_NAME  \\\n",
       "0                                       Intimidation   \n",
       "1                                     Simple Assault   \n",
       "2                                 Aggravated Assault   \n",
       "3  Aggravated Assault;Destruction/Damage/Vandalis...   \n",
       "4                                 Aggravated Assault   \n",
       "\n",
       "   TOTAL_INDIVIDUAL_VICTIMS                       LOCATION_NAME  \\\n",
       "0                       1.0  Highway/Road/Alley/Street/Sidewalk   \n",
       "1                       1.0  Highway/Road/Alley/Street/Sidewalk   \n",
       "2                       1.0                      Residence/Home   \n",
       "3                       1.0  Highway/Road/Alley/Street/Sidewalk   \n",
       "4                       1.0                 Service/Gas Station   \n",
       "\n",
       "                        BIAS_DESC  VICTIM_TYPES  MULTIPLE_OFFENSE  \\\n",
       "0  Anti-Black or African American    Individual                 S   \n",
       "1                      Anti-White    Individual                 S   \n",
       "2  Anti-Black or African American    Individual                 S   \n",
       "3                      Anti-White    Individual                 M   \n",
       "4                      Anti-White    Individual                 S   \n",
       "\n",
       "  MULTIPLE_BIAS decade_ending  \n",
       "0             S          2000  \n",
       "1             S          2000  \n",
       "2             S          2000  \n",
       "3             S          2000  \n",
       "4             S          2000  \n",
       "\n",
       "[5 rows x 29 columns]"
      ]
     },
     "execution_count": 8,
     "metadata": {},
     "output_type": "execute_result"
    }
   ],
   "source": [
    "hate_crime_df[\"decade_ending\"] = pd.cut(hate_crime_df[\"DATA_YEAR\"],decade_bins,labels = decade_labels)\n",
    "hate_crime_df.head()"
   ]
  },
  {
   "cell_type": "code",
   "execution_count": 9,
   "id": "b2d4c0a0",
   "metadata": {},
   "outputs": [
    {
     "data": {
      "text/html": [
       "<div>\n",
       "<style scoped>\n",
       "    .dataframe tbody tr th:only-of-type {\n",
       "        vertical-align: middle;\n",
       "    }\n",
       "\n",
       "    .dataframe tbody tr th {\n",
       "        vertical-align: top;\n",
       "    }\n",
       "\n",
       "    .dataframe thead th {\n",
       "        text-align: right;\n",
       "    }\n",
       "</style>\n",
       "<table border=\"1\" class=\"dataframe\">\n",
       "  <thead>\n",
       "    <tr style=\"text-align: right;\">\n",
       "      <th></th>\n",
       "      <th>INCIDENT_ID</th>\n",
       "    </tr>\n",
       "    <tr>\n",
       "      <th>decade_ending</th>\n",
       "      <th></th>\n",
       "    </tr>\n",
       "  </thead>\n",
       "  <tbody>\n",
       "    <tr>\n",
       "      <th>2000</th>\n",
       "      <td>73730</td>\n",
       "    </tr>\n",
       "    <tr>\n",
       "      <th>2010</th>\n",
       "      <td>76481</td>\n",
       "    </tr>\n",
       "    <tr>\n",
       "      <th>2020</th>\n",
       "      <td>69366</td>\n",
       "    </tr>\n",
       "  </tbody>\n",
       "</table>\n",
       "</div>"
      ],
      "text/plain": [
       "               INCIDENT_ID\n",
       "decade_ending             \n",
       "2000                 73730\n",
       "2010                 76481\n",
       "2020                 69366"
      ]
     },
     "execution_count": 9,
     "metadata": {},
     "output_type": "execute_result"
    }
   ],
   "source": [
    "hate_crime_df.groupby(\"decade_ending\")[[\"INCIDENT_ID\"]].count()"
   ]
  },
  {
   "cell_type": "markdown",
   "id": "d5566869",
   "metadata": {},
   "source": [
    "### Incidents per year for last 10 year"
   ]
  },
  {
   "cell_type": "code",
   "execution_count": 10,
   "id": "2440b72d",
   "metadata": {},
   "outputs": [],
   "source": [
    "hate_crime_df_last_10yr = hate_crime_df[hate_crime_df[\"DATA_YEAR\"]>2010]"
   ]
  },
  {
   "cell_type": "code",
   "execution_count": 11,
   "id": "45780a1c",
   "metadata": {},
   "outputs": [
    {
     "data": {
      "image/png": "[encoded data removed]",
      "text/plain": [
       "<Figure size 1080x360 with 1 Axes>"
      ]
     },
     "metadata": {
      "needs_background": "light"
     },
     "output_type": "display_data"
    }
   ],
   "source": [
    "fig2, ax2 = plt.subplots()\n",
    "fig2 = hate_crime_df_last_10yr[\"DATA_YEAR\"].value_counts().sort_index().plot.area(color='dodgerblue', figsize=(15,5))\n",
    "\n",
    "ax2.set_xlabel(\"Year\")\n",
    "ax2.set_ylabel(\"No. of incidents\")\n",
    "ax2.set_title(\"Hate Crime Incidents in the last 10 years\")\n",
    "\n",
    "ym = hate_crime_df_last_10yr[\"DATA_YEAR\"].value_counts().mean()\n",
    "ax2.axhline(ym, color='green', linewidth=2, linestyle = '--')\n",
    "ax2.annotate('Mean: {:0.2f}'.format(ym), xy=(0, ym), xytext=(0,ym+1000),arrowprops=dict(arrowstyle='-|>', fc='black', shrinkA=0, shrinkB=0,\n",
    "                            connectionstyle='angle,angleA=0,angleB=90,rad=10'))\n",
    "\n",
    "plt.show()"
   ]
  },
  {
   "cell_type": "code",
   "execution_count": 12,
   "id": "a35ec46d",
   "metadata": {},
   "outputs": [
    {
     "data": {
      "text/html": [
       "<div>\n",
       "<style scoped>\n",
       "    .dataframe tbody tr th:only-of-type {\n",
       "        vertical-align: middle;\n",
       "    }\n",
       "\n",
       "    .dataframe tbody tr th {\n",
       "        vertical-align: top;\n",
       "    }\n",
       "\n",
       "    .dataframe thead th {\n",
       "        text-align: right;\n",
       "    }\n",
       "</style>\n",
       "<table border=\"1\" class=\"dataframe\">\n",
       "  <thead>\n",
       "    <tr style=\"text-align: right;\">\n",
       "      <th></th>\n",
       "      <th>INCIDENT_ID</th>\n",
       "      <th>% Distribution</th>\n",
       "    </tr>\n",
       "    <tr>\n",
       "      <th>BIAS_DESC</th>\n",
       "      <th></th>\n",
       "      <th></th>\n",
       "    </tr>\n",
       "  </thead>\n",
       "  <tbody>\n",
       "    <tr>\n",
       "      <th>Anti-Black or African American</th>\n",
       "      <td>74762</td>\n",
       "      <td>34.05%</td>\n",
       "    </tr>\n",
       "    <tr>\n",
       "      <th>Anti-Jewish</th>\n",
       "      <td>28013</td>\n",
       "      <td>12.76%</td>\n",
       "    </tr>\n",
       "    <tr>\n",
       "      <th>Anti-White</th>\n",
       "      <td>25193</td>\n",
       "      <td>11.47%</td>\n",
       "    </tr>\n",
       "    <tr>\n",
       "      <th>Anti-Gay (Male)</th>\n",
       "      <td>21854</td>\n",
       "      <td>9.95%</td>\n",
       "    </tr>\n",
       "    <tr>\n",
       "      <th>Anti-Hispanic or Latino</th>\n",
       "      <td>14030</td>\n",
       "      <td>6.39%</td>\n",
       "    </tr>\n",
       "  </tbody>\n",
       "</table>\n",
       "</div>"
      ],
      "text/plain": [
       "                                INCIDENT_ID % Distribution\n",
       "BIAS_DESC                                                 \n",
       "Anti-Black or African American        74762         34.05%\n",
       "Anti-Jewish                           28013         12.76%\n",
       "Anti-White                            25193         11.47%\n",
       "Anti-Gay (Male)                       21854          9.95%\n",
       "Anti-Hispanic or Latino               14030          6.39%"
      ]
     },
     "execution_count": 12,
     "metadata": {},
     "output_type": "execute_result"
    }
   ],
   "source": [
    "bias_count_data = hate_crime_df.groupby(\"BIAS_DESC\")[\"INCIDENT_ID\"].count()\n",
    "bias_count_data_df = pd.DataFrame(bias_count_data)\n",
    "bias_count_data_df = bias_count_data_df.sort_values(\"INCIDENT_ID\",ascending=False)\n",
    "bias_count_data_df[\"% Distribution\"] = bias_count_data_df[\"INCIDENT_ID\"]/bias_count_data_df[\"INCIDENT_ID\"].sum() * 100\n",
    "bias_count_data_df[\"% Distribution\"] = bias_count_data_df[\"% Distribution\"].map('{:,.2f}%'.format)\n",
    "bias_count_data_df.head()"
   ]
  },
  {
   "cell_type": "code",
   "execution_count": 13,
   "id": "a5c9a2ef",
   "metadata": {},
   "outputs": [
    {
     "data": {
      "text/plain": [
       "353"
      ]
     },
     "execution_count": 13,
     "metadata": {},
     "output_type": "execute_result"
    }
   ],
   "source": [
    "hate_crime_df[\"OFFENSE_NAME\"].nunique()"
   ]
  },
  {
   "cell_type": "code",
   "execution_count": 14,
   "id": "b59ad297",
   "metadata": {},
   "outputs": [
    {
     "data": {
      "text/html": [
       "<div>\n",
       "<style scoped>\n",
       "    .dataframe tbody tr th:only-of-type {\n",
       "        vertical-align: middle;\n",
       "    }\n",
       "\n",
       "    .dataframe tbody tr th {\n",
       "        vertical-align: top;\n",
       "    }\n",
       "\n",
       "    .dataframe thead th {\n",
       "        text-align: right;\n",
       "    }\n",
       "</style>\n",
       "<table border=\"1\" class=\"dataframe\">\n",
       "  <thead>\n",
       "    <tr style=\"text-align: right;\">\n",
       "      <th></th>\n",
       "      <th>INCIDENT_ID</th>\n",
       "      <th>% Distribution</th>\n",
       "    </tr>\n",
       "    <tr>\n",
       "      <th>OFFENSE_NAME</th>\n",
       "      <th></th>\n",
       "      <th></th>\n",
       "    </tr>\n",
       "  </thead>\n",
       "  <tbody>\n",
       "    <tr>\n",
       "      <th>Destruction/Damage/Vandalism of Property</th>\n",
       "      <td>66774</td>\n",
       "      <td>30.41%</td>\n",
       "    </tr>\n",
       "    <tr>\n",
       "      <th>Intimidation</th>\n",
       "      <td>64093</td>\n",
       "      <td>29.19%</td>\n",
       "    </tr>\n",
       "    <tr>\n",
       "      <th>Simple Assault</th>\n",
       "      <td>41719</td>\n",
       "      <td>19.00%</td>\n",
       "    </tr>\n",
       "    <tr>\n",
       "      <th>Aggravated Assault</th>\n",
       "      <td>22927</td>\n",
       "      <td>10.44%</td>\n",
       "    </tr>\n",
       "    <tr>\n",
       "      <th>Robbery</th>\n",
       "      <td>3703</td>\n",
       "      <td>1.69%</td>\n",
       "    </tr>\n",
       "  </tbody>\n",
       "</table>\n",
       "</div>"
      ],
      "text/plain": [
       "                                          INCIDENT_ID % Distribution\n",
       "OFFENSE_NAME                                                        \n",
       "Destruction/Damage/Vandalism of Property        66774         30.41%\n",
       "Intimidation                                    64093         29.19%\n",
       "Simple Assault                                  41719         19.00%\n",
       "Aggravated Assault                              22927         10.44%\n",
       "Robbery                                          3703          1.69%"
      ]
     },
     "execution_count": 14,
     "metadata": {},
     "output_type": "execute_result"
    }
   ],
   "source": [
    "offense_count_data = hate_crime_df.groupby(\"OFFENSE_NAME\")[\"INCIDENT_ID\"].count().sort_values(ascending=False)\n",
    "offense_count_data_df = pd.DataFrame(offense_count_data)\n",
    "offense_count_data_df[\"% Distribution\"] = offense_count_data_df[\"INCIDENT_ID\"]/offense_count_data_df[\"INCIDENT_ID\"].sum() * 100\n",
    "offense_count_data_df[\"% Distribution\"] =offense_count_data_df[\"% Distribution\"].map('{:,.2f}%'.format)\n",
    "offense_count_data_df.head(5)"
   ]
  },
  {
   "cell_type": "code",
   "execution_count": null,
   "id": "ed0b2d67",
   "metadata": {},
   "outputs": [],
   "source": []
  },
  {
   "cell_type": "code",
   "execution_count": null,
   "id": "52907634",
   "metadata": {},
   "outputs": [],
   "source": []
  },
  {
   "cell_type": "markdown",
   "id": "d036121f",
   "metadata": {},
   "source": [
    "### Incident count for last 10 year region wise"
   ]
  },
  {
   "cell_type": "code",
   "execution_count": 42,
   "id": "ee61e46d",
   "metadata": {},
   "outputs": [
    {
     "data": {
      "text/plain": [
       "array(['South', 'West', 'Northeast', 'Midwest', nan], dtype=object)"
      ]
     },
     "execution_count": 42,
     "metadata": {},
     "output_type": "execute_result"
    }
   ],
   "source": [
    "# Cleaning Region_Name column to have only four major regions : Northeast, Midwest. South and West\n",
    "\n",
    "hate_crime_df[\"REGION_NAME\"] = hate_crime_df[\"REGION_NAME\"].replace('U.S. Territories',np.nan)\n",
    "hate_crime_df[\"REGION_NAME\"] = hate_crime_df[\"REGION_NAME\"].replace('Other', np.nan)\n",
    "#hate_crime_df = hate_crime_df.dropna()\n",
    "hate_crime_df[\"REGION_NAME\"].unique()"
   ]
  },
  {
   "cell_type": "code",
   "execution_count": 43,
   "id": "c072e174",
   "metadata": {},
   "outputs": [],
   "source": [
    "hate_crime_df_last_10yr_region = hate_crime_df[hate_crime_df[\"DATA_YEAR\"]>=2009]\n",
    "hate_crime_df_group_by_region_year = hate_crime_df_last_10yr_region.groupby([\"DATA_YEAR\",\"REGION_NAME\"])"
   ]
  },
  {
   "cell_type": "code",
   "execution_count": 54,
   "id": "d874ee86",
   "metadata": {},
   "outputs": [
    {
     "data": {
      "text/plain": [
       "DATA_YEAR  REGION_NAME\n",
       "2009       Midwest        1407\n",
       "           Northeast      1878\n",
       "           South          1352\n",
       "           West           1976\n",
       "2010       Midwest        1299\n",
       "           Northeast      1891\n",
       "           South          1372\n",
       "           West           2071\n",
       "2011       Midwest        1315\n",
       "           Northeast      1693\n",
       "           South          1303\n",
       "           West           1988\n",
       "2012       Midwest        1439\n",
       "           Northeast      1810\n",
       "           South          1470\n",
       "           West           1875\n",
       "2013       Midwest        1338\n",
       "           Northeast      1648\n",
       "           South          1286\n",
       "           West           1772\n",
       "2014       Midwest        1320\n",
       "           Northeast      1499\n",
       "           South          1133\n",
       "           West           1647\n",
       "2015       Midwest        1271\n",
       "           Northeast      1473\n",
       "           South          1344\n",
       "           West           1782\n",
       "2016       Midwest        1445\n",
       "           Northeast      1564\n",
       "           South          1313\n",
       "           West           1954\n",
       "2017       Midwest        1468\n",
       "           Northeast      1767\n",
       "           South          1857\n",
       "           West           2226\n",
       "2018       Midwest        1409\n",
       "           Northeast      1679\n",
       "           South          1805\n",
       "           West           2195\n",
       "2019       Midwest        1353\n",
       "           Northeast      2195\n",
       "           South          1829\n",
       "           West           2391\n",
       "2020       Midwest        1994\n",
       "           Northeast      2672\n",
       "           South          2377\n",
       "           West           3040\n",
       "Name: INCIDENT_ID, dtype: int64"
      ]
     },
     "execution_count": 54,
     "metadata": {},
     "output_type": "execute_result"
    }
   ],
   "source": [
    "hate_crime_df_group_by_region_year_count = hate_crime_df_group_by_region_year[\"INCIDENT_ID\"].count()\n",
    "\n",
    "hate_crime_df_group_by_region_year_count"
   ]
  },
  {
   "cell_type": "code",
   "execution_count": 36,
   "id": "0317d74a",
   "metadata": {},
   "outputs": [],
   "source": [
    "color_region = {'Midwest':'tab:cyan','South':'tab:purple','Northeast':'tab:olive','West':'tab:red'}"
   ]
  },
  {
   "cell_type": "code",
   "execution_count": 37,
   "id": "fb4916f3",
   "metadata": {
    "scrolled": false
   },
   "outputs": [
    {
     "data": {
      "image/png": "[encoded data removed]",
      "text/plain": [
       "<Figure size 1080x432 with 1 Axes>"
      ]
     },
     "metadata": {
      "needs_background": "light"
     },
     "output_type": "display_data"
    }
   ],
   "source": [
    "ax3 = hate_crime_df_group_by_region_year_count.unstack(fill_value=0).plot.bar(figsize=(15,6),color=color_region)\n",
    "\n",
    "ax3.set_xlabel(\"Year\")\n",
    "ax3.set_ylabel(\"No. of incidents\")\n",
    "ax3.set_title(\"Hate Crime Incidents in the last 10 years\")\n",
    "\n",
    "ym = hate_crime_df_group_by_region_year_count.mean()\n",
    "ax3.axhline(ym, color='black', linewidth=2, linestyle = '--')\n",
    "ax3.annotate('Mean: {:0.2f}'.format(ym), xy=(0, ym), xytext=(0,ym+500),arrowprops=dict(arrowstyle='-|>', fc='black', shrinkA=0, shrinkB=0,\n",
    "                            connectionstyle='angle,angleA=0,angleB=90,rad=10'))\n",
    "\n",
    "plt.show()"
   ]
  },
  {
   "cell_type": "code",
   "execution_count": 51,
   "id": "3160ef68",
   "metadata": {},
   "outputs": [
    {
     "data": {
      "image/png": "[encoded data removed]",
      "text/plain": [
       "<Figure size 1080x432 with 1 Axes>"
      ]
     },
     "metadata": {
      "needs_background": "light"
     },
     "output_type": "display_data"
    }
   ],
   "source": [
    "ax = hate_crime_df_group_by_region_year_count.unstack(fill_value=0).plot.area(figsize=(15,6),color=color_region)\n",
    "\n",
    "ax.set_xlabel(\"Year\")\n",
    "ax.set_ylabel(\"No. of incidents\")\n",
    "ax.set_title(\"Hate Crime Incidents in the last 10 years\")\n",
    "\n",
    "\n",
    "plt.show()"
   ]
  },
  {
   "cell_type": "code",
   "execution_count": 39,
   "id": "20c687b0",
   "metadata": {},
   "outputs": [],
   "source": [
    "region_incident_df = hate_crime_df[[\"decade_ending\",\"REGION_NAME\"]].value_counts().sort_index()"
   ]
  },
  {
   "cell_type": "code",
   "execution_count": null,
   "id": "f75b5e3d",
   "metadata": {
    "scrolled": true
   },
   "outputs": [],
   "source": [
    "ax4 = region_incident_df.unstack(fill_value=0).plot.bar(figsize=(15,6),color=color_region)\n",
    "\n",
    "ax4.set_xlabel(\"Decade ending\")\n",
    "ax4.set_ylabel(\"No. of incidents\")\n",
    "ax4.set_title(\"Hate Crime Incidents over the last 3 Decades\")\n",
    "\n",
    "plt.show()"
   ]
  },
  {
   "cell_type": "markdown",
   "id": "a169a0c0",
   "metadata": {},
   "source": [
    "#### Importing census population data for better understanding of crime rate "
   ]
  },
  {
   "cell_type": "code",
   "execution_count": null,
   "id": "385f74c4",
   "metadata": {},
   "outputs": [],
   "source": [
    "pop_census_df = pd.read_csv(\"Census-Population-by-Region.csv\")\n",
    "pop_census_df"
   ]
  },
  {
   "cell_type": "code",
   "execution_count": null,
   "id": "af528bab",
   "metadata": {},
   "outputs": [],
   "source": [
    "# Filtering down to last 3 decades of population data required for anlysis\n",
    "\n",
    "pop_census_df = pop_census_df[[\"State or Region\",\"2020\",\"2010\",\"2000\"]]\n",
    "pop_census_df = pop_census_df.set_index(\"State or Region\")\n",
    "pop_census_df"
   ]
  },
  {
   "cell_type": "code",
   "execution_count": null,
   "id": "4a18617c",
   "metadata": {},
   "outputs": [],
   "source": [
    "region_incident_df = hate_crime_df[[\"decade_ending\",\"REGION_NAME\"]].value_counts().sort_index()\n",
    "region_incident_df"
   ]
  },
  {
   "cell_type": "code",
   "execution_count": null,
   "id": "3ba1a32b",
   "metadata": {},
   "outputs": [],
   "source": [
    "region_incident_df = region_incident_df.reset_index()\n",
    "region_incident_df = region_incident_df.rename(columns = {0:\"Incident_Count\"})\n",
    "region_incident_df = region_incident_df[[\"decade_ending\", \"REGION_NAME\", \"Incident_Count\"]]"
   ]
  },
  {
   "cell_type": "code",
   "execution_count": null,
   "id": "82369e1a",
   "metadata": {},
   "outputs": [],
   "source": [
    "region_incident_df = region_incident_df.set_index([\"decade_ending\",\"REGION_NAME\"])\n",
    "region_incident_df"
   ]
  },
  {
   "cell_type": "code",
   "execution_count": null,
   "id": "cc4663c7",
   "metadata": {},
   "outputs": [],
   "source": [
    "# Populating a list with census population data and adding it as column to the region_incident_df datafrane\n",
    "population_data = []\n",
    "for index, row in region_incident_df.iterrows():\n",
    "    population_data.append(pop_census_df[index[0]][index[1]])\n",
    "\n",
    "region_incident_df[\"population\"] = population_data\n",
    "print(region_incident_df.info())\n",
    "# The population column is of the type and needs to be converted to int\n",
    "region_incident_df[\"population\"] = region_incident_df[\"population\"].convert_dtypes()\n",
    "region_incident_df[\"population\"] = region_incident_df[\"population\"].str.replace(',','')\n",
    "region_incident_df[\"population\"] = region_incident_df[\"population\"].astype(int)\n",
    "print(\" \")\n",
    "region_incident_df.info()"
   ]
  },
  {
   "cell_type": "code",
   "execution_count": null,
   "id": "6d8fbb2a",
   "metadata": {},
   "outputs": [],
   "source": [
    "# Now we have the incident count and population data grouped by decade and region\n",
    "region_incident_df"
   ]
  },
  {
   "cell_type": "markdown",
   "id": "b9496afb",
   "metadata": {},
   "source": [
    "#### Calculating the crime rate per 100,000 people and plotting the data"
   ]
  },
  {
   "cell_type": "code",
   "execution_count": null,
   "id": "8eab5dbe",
   "metadata": {},
   "outputs": [],
   "source": [
    "# Crime rate per 100000 = incident count / population * 100000\n",
    "\n",
    "region_incident_df[\"crime_rate\"] = (region_incident_df[\"Incident_Count\"]/region_incident_df[\"population\"]) * 100000\n",
    "region_incident_df"
   ]
  },
  {
   "cell_type": "code",
   "execution_count": null,
   "id": "6057397b",
   "metadata": {},
   "outputs": [],
   "source": [
    "ax5 = region_incident_df[\"crime_rate\"].unstack(fill_value=0).plot.bar(figsize=(15,6),color=color_region)\n",
    "\n",
    "ax5.set_xlabel(\"Decade\")\n",
    "ax5.set_ylabel(\"Crime Rate per 100,000 people\")\n",
    "ax5.set_title(\"Hate Crime Incidents in the last 10 years\")\n",
    "\n",
    "ym = stats.hmean(region_incident_df[\"crime_rate\"])\n",
    "ax5.axhline(ym, color='black', linewidth=2, linestyle = '--')\n",
    "ax5.annotate('H_Mean: {:0.2f}'.format(ym), xy=(0.3, ym), xytext=(0.3,ym+1),arrowprops=dict(arrowstyle='-|>', fc='black', shrinkA=0, shrinkB=0,\n",
    "                            connectionstyle='angle,angleA=0,angleB=90,rad=10'))\n",
    "\n",
    "plt.show()"
   ]
  },
  {
   "cell_type": "code",
   "execution_count": null,
   "id": "859bc776",
   "metadata": {},
   "outputs": [],
   "source": []
  },
  {
   "cell_type": "code",
   "execution_count": null,
   "id": "b18e3f1b",
   "metadata": {},
   "outputs": [],
   "source": []
  },
  {
   "cell_type": "code",
   "execution_count": null,
   "id": "53b5b1e2",
   "metadata": {},
   "outputs": [],
   "source": []
  },
  {
   "cell_type": "code",
   "execution_count": null,
   "id": "ac10ed51",
   "metadata": {},
   "outputs": [],
   "source": []
  },
  {
   "cell_type": "code",
   "execution_count": null,
   "id": "08643100",
   "metadata": {},
   "outputs": [],
   "source": []
  }
 ],
 "metadata": {
  "kernelspec": {
   "display_name": "Python 3 (ipykernel)",
   "language": "python",
   "name": "python3"
  },
  "language_info": {
   "codemirror_mode": {
    "name": "ipython",
    "version": 3
   },
   "file_extension": ".py",
   "mimetype": "text/x-python",
   "name": "python",
   "nbconvert_exporter": "python",
   "pygments_lexer": "ipython3",
   "version": "3.8.10"
  }
 },
 "nbformat": 4,
 "nbformat_minor": 5
}
